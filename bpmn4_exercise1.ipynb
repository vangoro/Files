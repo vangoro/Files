{
 "cells": [
  {
   "cell_type": "markdown",
   "metadata": {},
   "source": [
    "<h1>Assignment 4: Fairness with IBM AIF360</h1>"
   ]
  },
  {
   "cell_type": "code",
   "execution_count": 1,
   "metadata": {},
   "outputs": [
    {
     "name": "stdout",
     "output_type": "stream",
     "text": [
      "Requirement already satisfied: aif360[all] in c:\\users\\bengo\\anaconda3\\lib\\site-packages (0.5.0)\n",
      "Requirement already satisfied: scipy>=1.2.0 in c:\\users\\bengo\\anaconda3\\lib\\site-packages (from aif360[all]) (1.2.1)\n",
      "Requirement already satisfied: pandas>=0.24.0 in c:\\users\\bengo\\anaconda3\\lib\\site-packages (from aif360[all]) (0.24.2)\n",
      "Requirement already satisfied: scikit-learn>=1.0 in c:\\users\\bengo\\anaconda3\\lib\\site-packages (from aif360[all]) (1.0.2)\n",
      "Requirement already satisfied: matplotlib in c:\\users\\bengo\\anaconda3\\lib\\site-packages (from aif360[all]) (3.1.0)\n",
      "Requirement already satisfied: numpy>=1.16 in c:\\users\\bengo\\anaconda3\\lib\\site-packages (from aif360[all]) (1.16.4)\n",
      "Requirement already satisfied: seaborn; extra == \"all\" in c:\\users\\bengo\\anaconda3\\lib\\site-packages (from aif360[all]) (0.9.0)\n",
      "Requirement already satisfied: torch; extra == \"all\" in c:\\users\\bengo\\anaconda3\\lib\\site-packages (from aif360[all]) (1.13.1)\n",
      "Requirement already satisfied: jupyter; extra == \"all\" in c:\\users\\bengo\\anaconda3\\lib\\site-packages (from aif360[all]) (1.0.0)\n",
      "Requirement already satisfied: lime; extra == \"all\" in c:\\users\\bengo\\anaconda3\\lib\\site-packages (from aif360[all]) (0.2.0.1)\n",
      "Requirement already satisfied: ipympl; extra == \"all\" in c:\\users\\bengo\\anaconda3\\lib\\site-packages (from aif360[all]) (0.9.3)\n",
      "Requirement already satisfied: sphinx-rtd-theme; extra == \"all\" in c:\\users\\bengo\\anaconda3\\lib\\site-packages (from aif360[all]) (2.0.0)\n",
      "Requirement already satisfied: lightgbm; extra == \"all\" in c:\\users\\bengo\\anaconda3\\lib\\site-packages (from aif360[all]) (4.2.0)\n",
      "Requirement already satisfied: adversarial-robustness-toolbox>=1.0.0; extra == \"all\" in c:\\users\\bengo\\anaconda3\\lib\\site-packages (from aif360[all]) (1.17.0)\n",
      "Requirement already satisfied: pytest>=3.5; extra == \"all\" in c:\\users\\bengo\\anaconda3\\lib\\site-packages (from aif360[all]) (5.0.1)\n",
      "Requirement already satisfied: BlackBoxAuditing; extra == \"all\" in c:\\users\\bengo\\anaconda3\\lib\\site-packages (from aif360[all]) (0.1.54)\n",
      "Requirement already satisfied: fairlearn~=0.7; extra == \"all\" in c:\\users\\bengo\\anaconda3\\lib\\site-packages (from aif360[all]) (0.7.0)\n",
      "Requirement already satisfied: igraph[plotting]; extra == \"all\" in c:\\users\\bengo\\anaconda3\\lib\\site-packages (from aif360[all]) (0.10.8)\n",
      "Requirement already satisfied: cvxpy>=1.0; extra == \"all\" in c:\\users\\bengo\\anaconda3\\lib\\site-packages (from aif360[all]) (1.3.2)\n",
      "Requirement already satisfied: jinja2<3.1.0; extra == \"all\" in c:\\users\\bengo\\anaconda3\\lib\\site-packages (from aif360[all]) (2.10.1)\n",
      "Requirement already satisfied: tensorflow>=1.13.1; extra == \"all\" in c:\\users\\bengo\\anaconda3\\lib\\site-packages (from aif360[all]) (2.11.0)\n",
      "Requirement already satisfied: rpy2; extra == \"all\" in c:\\users\\bengo\\anaconda3\\lib\\site-packages (from aif360[all]) (3.5.15)\n",
      "Requirement already satisfied: tempeh; extra == \"all\" in c:\\users\\bengo\\anaconda3\\lib\\site-packages (from aif360[all]) (0.1.12)\n",
      "Requirement already satisfied: sphinx<2; extra == \"all\" in c:\\users\\bengo\\anaconda3\\lib\\site-packages (from aif360[all]) (1.8.6)\n",
      "Requirement already satisfied: tqdm; extra == \"all\" in c:\\users\\bengo\\anaconda3\\lib\\site-packages (from aif360[all]) (4.32.1)\n",
      "Requirement already satisfied: pytz>=2011k in c:\\users\\bengo\\anaconda3\\lib\\site-packages (from pandas>=0.24.0->aif360[all]) (2019.1)\n",
      "Requirement already satisfied: python-dateutil>=2.5.0 in c:\\users\\bengo\\anaconda3\\lib\\site-packages (from pandas>=0.24.0->aif360[all]) (2.8.0)\n",
      "Requirement already satisfied: threadpoolctl>=2.0.0 in c:\\users\\bengo\\anaconda3\\lib\\site-packages (from scikit-learn>=1.0->aif360[all]) (3.1.0)\n",
      "Requirement already satisfied: joblib>=0.11 in c:\\users\\bengo\\anaconda3\\lib\\site-packages (from scikit-learn>=1.0->aif360[all]) (0.13.2)\n",
      "Requirement already satisfied: cycler>=0.10 in c:\\users\\bengo\\anaconda3\\lib\\site-packages (from matplotlib->aif360[all]) (0.10.0)\n",
      "Requirement already satisfied: kiwisolver>=1.0.1 in c:\\users\\bengo\\anaconda3\\lib\\site-packages (from matplotlib->aif360[all]) (1.1.0)\n",
      "Requirement already satisfied: pyparsing!=2.0.4,!=2.1.2,!=2.1.6,>=2.0.1 in c:\\users\\bengo\\anaconda3\\lib\\site-packages (from matplotlib->aif360[all]) (2.4.0)\n",
      "Requirement already satisfied: typing-extensions in c:\\users\\bengo\\anaconda3\\lib\\site-packages (from torch; extra == \"all\"->aif360[all]) (4.7.1)\n",
      "Requirement already satisfied: nbconvert in c:\\users\\bengo\\anaconda3\\lib\\site-packages (from jupyter; extra == \"all\"->aif360[all]) (5.5.0)\n",
      "Requirement already satisfied: ipykernel in c:\\users\\bengo\\anaconda3\\lib\\site-packages (from jupyter; extra == \"all\"->aif360[all]) (5.1.1)\n",
      "Requirement already satisfied: jupyter-console in c:\\users\\bengo\\anaconda3\\lib\\site-packages (from jupyter; extra == \"all\"->aif360[all]) (6.0.0)\n",
      "Requirement already satisfied: ipywidgets in c:\\users\\bengo\\anaconda3\\lib\\site-packages (from jupyter; extra == \"all\"->aif360[all]) (8.1.1)\n",
      "Requirement already satisfied: notebook in c:\\users\\bengo\\anaconda3\\lib\\site-packages (from jupyter; extra == \"all\"->aif360[all]) (6.0.0)\n",
      "Requirement already satisfied: qtconsole in c:\\users\\bengo\\anaconda3\\lib\\site-packages (from jupyter; extra == \"all\"->aif360[all]) (4.5.1)\n",
      "Requirement already satisfied: scikit-image>=0.12 in c:\\users\\bengo\\anaconda3\\lib\\site-packages (from lime; extra == \"all\"->aif360[all]) (0.15.0)\n",
      "Requirement already satisfied: ipython-genutils in c:\\users\\bengo\\anaconda3\\lib\\site-packages (from ipympl; extra == \"all\"->aif360[all]) (0.2.0)\n",
      "Requirement already satisfied: pillow in c:\\users\\bengo\\anaconda3\\lib\\site-packages (from ipympl; extra == \"all\"->aif360[all]) (6.1.0)\n",
      "Requirement already satisfied: ipython<9 in c:\\users\\bengo\\anaconda3\\lib\\site-packages (from ipympl; extra == \"all\"->aif360[all]) (7.6.1)\n",
      "Requirement already satisfied: traitlets<6 in c:\\users\\bengo\\anaconda3\\lib\\site-packages (from ipympl; extra == \"all\"->aif360[all]) (4.3.2)\n",
      "Requirement already satisfied: sphinxcontrib-jquery<5,>=4 in c:\\users\\bengo\\anaconda3\\lib\\site-packages (from sphinx-rtd-theme; extra == \"all\"->aif360[all]) (4.1)\n",
      "Requirement already satisfied: docutils<0.21 in c:\\users\\bengo\\anaconda3\\lib\\site-packages (from sphinx-rtd-theme; extra == \"all\"->aif360[all]) (0.14)\n",
      "Requirement already satisfied: setuptools in c:\\users\\bengo\\anaconda3\\lib\\site-packages (from adversarial-robustness-toolbox>=1.0.0; extra == \"all\"->aif360[all]) (68.0.0)\n",
      "Requirement already satisfied: six in c:\\users\\bengo\\anaconda3\\lib\\site-packages (from adversarial-robustness-toolbox>=1.0.0; extra == \"all\"->aif360[all]) (1.12.0)\n",
      "Requirement already satisfied: py>=1.5.0 in c:\\users\\bengo\\anaconda3\\lib\\site-packages (from pytest>=3.5; extra == \"all\"->aif360[all]) (1.8.0)\n",
      "Requirement already satisfied: packaging in c:\\users\\bengo\\anaconda3\\lib\\site-packages (from pytest>=3.5; extra == \"all\"->aif360[all]) (23.2)\n",
      "Requirement already satisfied: attrs>=17.4.0 in c:\\users\\bengo\\anaconda3\\lib\\site-packages (from pytest>=3.5; extra == \"all\"->aif360[all]) (19.1.0)\n",
      "Requirement already satisfied: more-itertools>=4.0.0 in c:\\users\\bengo\\anaconda3\\lib\\site-packages (from pytest>=3.5; extra == \"all\"->aif360[all]) (7.0.0)\n",
      "Requirement already satisfied: atomicwrites>=1.0 in c:\\users\\bengo\\anaconda3\\lib\\site-packages (from pytest>=3.5; extra == \"all\"->aif360[all]) (1.3.0)\n",
      "Requirement already satisfied: pluggy<1.0,>=0.12 in c:\\users\\bengo\\anaconda3\\lib\\site-packages (from pytest>=3.5; extra == \"all\"->aif360[all]) (0.12.0)\n",
      "Requirement already satisfied: importlib-metadata>=0.12 in c:\\users\\bengo\\anaconda3\\lib\\site-packages (from pytest>=3.5; extra == \"all\"->aif360[all]) (6.7.0)\n",
      "Requirement already satisfied: wcwidth in c:\\users\\bengo\\anaconda3\\lib\\site-packages (from pytest>=3.5; extra == \"all\"->aif360[all]) (0.1.7)\n",
      "Requirement already satisfied: colorama in c:\\users\\bengo\\anaconda3\\lib\\site-packages (from pytest>=3.5; extra == \"all\"->aif360[all]) (0.4.1)\n",
      "Requirement already satisfied: networkx in c:\\users\\bengo\\anaconda3\\lib\\site-packages (from BlackBoxAuditing; extra == \"all\"->aif360[all]) (2.3)\n",
      "Requirement already satisfied: texttable>=1.6.2 in c:\\users\\bengo\\anaconda3\\lib\\site-packages (from igraph[plotting]; extra == \"all\"->aif360[all]) (1.7.0)\n",
      "Requirement already satisfied: cairocffi>=1.2.0; extra == \"plotting\" in c:\\users\\bengo\\anaconda3\\lib\\site-packages (from igraph[plotting]; extra == \"all\"->aif360[all]) (1.6.1)\n",
      "Requirement already satisfied: scs>=1.1.6 in c:\\users\\bengo\\anaconda3\\lib\\site-packages (from cvxpy>=1.0; extra == \"all\"->aif360[all]) (3.2.4.post1)\n",
      "Requirement already satisfied: osqp>=0.4.1 in c:\\users\\bengo\\anaconda3\\lib\\site-packages (from cvxpy>=1.0; extra == \"all\"->aif360[all]) (0.6.3)\n",
      "Requirement already satisfied: ecos>=2 in c:\\users\\bengo\\anaconda3\\lib\\site-packages (from cvxpy>=1.0; extra == \"all\"->aif360[all]) (2.0.12)\n",
      "Requirement already satisfied: MarkupSafe>=0.23 in c:\\users\\bengo\\anaconda3\\lib\\site-packages (from jinja2<3.1.0; extra == \"all\"->aif360[all]) (2.1.3)\n",
      "Requirement already satisfied: tensorflow-intel==2.11.0; platform_system == \"Windows\" in c:\\users\\bengo\\anaconda3\\lib\\site-packages (from tensorflow>=1.13.1; extra == \"all\"->aif360[all]) (2.11.0)\n",
      "Requirement already satisfied: cffi>=1.10.0 in c:\\users\\bengo\\anaconda3\\lib\\site-packages (from rpy2; extra == \"all\"->aif360[all]) (1.12.3)\n",
      "Requirement already satisfied: tzlocal in c:\\users\\bengo\\anaconda3\\lib\\site-packages (from rpy2; extra == \"all\"->aif360[all]) (5.1)\n",
      "Requirement already satisfied: backports.zoneinfo; python_version < \"3.9\" in c:\\users\\bengo\\anaconda3\\lib\\site-packages (from rpy2; extra == \"all\"->aif360[all]) (0.2.1)\n",
      "Requirement already satisfied: memory-profiler in c:\\users\\bengo\\anaconda3\\lib\\site-packages (from tempeh; extra == \"all\"->aif360[all]) (0.61.0)\n",
      "Requirement already satisfied: requests in c:\\users\\bengo\\anaconda3\\lib\\site-packages (from tempeh; extra == \"all\"->aif360[all]) (2.22.0)\n",
      "Requirement already satisfied: shap in c:\\users\\bengo\\anaconda3\\lib\\site-packages (from tempeh; extra == \"all\"->aif360[all]) (0.42.1)\n",
      "Requirement already satisfied: babel!=2.0,>=1.3 in c:\\users\\bengo\\anaconda3\\lib\\site-packages (from sphinx<2; extra == \"all\"->aif360[all]) (2.7.0)\n",
      "Requirement already satisfied: sphinxcontrib-websupport in c:\\users\\bengo\\anaconda3\\lib\\site-packages (from sphinx<2; extra == \"all\"->aif360[all]) (1.1.2)\n",
      "Requirement already satisfied: Pygments>=2.0 in c:\\users\\bengo\\anaconda3\\lib\\site-packages (from sphinx<2; extra == \"all\"->aif360[all]) (2.4.2)\n",
      "Requirement already satisfied: alabaster<0.8,>=0.7 in c:\\users\\bengo\\anaconda3\\lib\\site-packages (from sphinx<2; extra == \"all\"->aif360[all]) (0.7.12)\n",
      "Requirement already satisfied: snowballstemmer>=1.1 in c:\\users\\bengo\\anaconda3\\lib\\site-packages (from sphinx<2; extra == \"all\"->aif360[all]) (1.9.0)\n",
      "Requirement already satisfied: imagesize in c:\\users\\bengo\\anaconda3\\lib\\site-packages (from sphinx<2; extra == \"all\"->aif360[all]) (1.1.0)\n",
      "Requirement already satisfied: nbformat>=4.4 in c:\\users\\bengo\\anaconda3\\lib\\site-packages (from nbconvert->jupyter; extra == \"all\"->aif360[all]) (4.4.0)\n",
      "Requirement already satisfied: mistune>=0.8.1 in c:\\users\\bengo\\anaconda3\\lib\\site-packages (from nbconvert->jupyter; extra == \"all\"->aif360[all]) (0.8.4)\n",
      "Requirement already satisfied: defusedxml in c:\\users\\bengo\\anaconda3\\lib\\site-packages (from nbconvert->jupyter; extra == \"all\"->aif360[all]) (0.6.0)\n",
      "Requirement already satisfied: jupyter-core in c:\\users\\bengo\\anaconda3\\lib\\site-packages (from nbconvert->jupyter; extra == \"all\"->aif360[all]) (4.5.0)\n",
      "Requirement already satisfied: bleach in c:\\users\\bengo\\anaconda3\\lib\\site-packages (from nbconvert->jupyter; extra == \"all\"->aif360[all]) (3.1.0)\n",
      "Requirement already satisfied: pandocfilters>=1.4.1 in c:\\users\\bengo\\anaconda3\\lib\\site-packages (from nbconvert->jupyter; extra == \"all\"->aif360[all]) (1.4.2)\n",
      "Requirement already satisfied: testpath in c:\\users\\bengo\\anaconda3\\lib\\site-packages (from nbconvert->jupyter; extra == \"all\"->aif360[all]) (0.4.2)\n",
      "Requirement already satisfied: entrypoints>=0.2.2 in c:\\users\\bengo\\anaconda3\\lib\\site-packages (from nbconvert->jupyter; extra == \"all\"->aif360[all]) (0.3)\n",
      "Requirement already satisfied: jupyter-client in c:\\users\\bengo\\anaconda3\\lib\\site-packages (from ipykernel->jupyter; extra == \"all\"->aif360[all]) (5.3.1)\n",
      "Requirement already satisfied: tornado>=4.2 in c:\\users\\bengo\\anaconda3\\lib\\site-packages (from ipykernel->jupyter; extra == \"all\"->aif360[all]) (6.0.3)\n",
      "Requirement already satisfied: prompt_toolkit<2.1.0,>=2.0.0 in c:\\users\\bengo\\anaconda3\\lib\\site-packages (from jupyter-console->jupyter; extra == \"all\"->aif360[all]) (2.0.9)\n",
      "Requirement already satisfied: widgetsnbextension~=4.0.9 in c:\\users\\bengo\\anaconda3\\lib\\site-packages (from ipywidgets->jupyter; extra == \"all\"->aif360[all]) (4.0.9)\n",
      "Requirement already satisfied: jupyterlab-widgets~=3.0.9 in c:\\users\\bengo\\anaconda3\\lib\\site-packages (from ipywidgets->jupyter; extra == \"all\"->aif360[all]) (3.0.9)\n",
      "Requirement already satisfied: comm>=0.1.3 in c:\\users\\bengo\\anaconda3\\lib\\site-packages (from ipywidgets->jupyter; extra == \"all\"->aif360[all]) (0.1.4)\n",
      "Requirement already satisfied: terminado>=0.8.1 in c:\\users\\bengo\\anaconda3\\lib\\site-packages (from notebook->jupyter; extra == \"all\"->aif360[all]) (0.8.2)\n",
      "Requirement already satisfied: prometheus-client in c:\\users\\bengo\\anaconda3\\lib\\site-packages (from notebook->jupyter; extra == \"all\"->aif360[all]) (0.7.1)\n",
      "Requirement already satisfied: Send2Trash in c:\\users\\bengo\\anaconda3\\lib\\site-packages (from notebook->jupyter; extra == \"all\"->aif360[all]) (1.5.0)\n",
      "Requirement already satisfied: pyzmq>=17 in c:\\users\\bengo\\anaconda3\\lib\\site-packages (from notebook->jupyter; extra == \"all\"->aif360[all]) (18.0.0)\n",
      "Requirement already satisfied: PyWavelets>=0.4.0 in c:\\users\\bengo\\anaconda3\\lib\\site-packages (from scikit-image>=0.12->lime; extra == \"all\"->aif360[all]) (1.0.3)\n",
      "Requirement already satisfied: imageio>=2.0.1 in c:\\users\\bengo\\anaconda3\\lib\\site-packages (from scikit-image>=0.12->lime; extra == \"all\"->aif360[all]) (2.5.0)\n",
      "Requirement already satisfied: decorator in c:\\users\\bengo\\anaconda3\\lib\\site-packages (from ipython<9->ipympl; extra == \"all\"->aif360[all]) (4.4.0)\n",
      "Requirement already satisfied: jedi>=0.10 in c:\\users\\bengo\\anaconda3\\lib\\site-packages (from ipython<9->ipympl; extra == \"all\"->aif360[all]) (0.13.3)\n",
      "Requirement already satisfied: pickleshare in c:\\users\\bengo\\anaconda3\\lib\\site-packages (from ipython<9->ipympl; extra == \"all\"->aif360[all]) (0.7.5)\n",
      "Requirement already satisfied: backcall in c:\\users\\bengo\\anaconda3\\lib\\site-packages (from ipython<9->ipympl; extra == \"all\"->aif360[all]) (0.1.0)\n",
      "Requirement already satisfied: zipp>=0.5 in c:\\users\\bengo\\anaconda3\\lib\\site-packages (from importlib-metadata>=0.12->pytest>=3.5; extra == \"all\"->aif360[all]) (0.5.1)\n",
      "Requirement already satisfied: qdldl in c:\\users\\bengo\\anaconda3\\lib\\site-packages (from osqp>=0.4.1->cvxpy>=1.0; extra == \"all\"->aif360[all]) (0.1.7.post0)\n",
      "Requirement already satisfied: google-pasta>=0.1.1 in c:\\users\\bengo\\anaconda3\\lib\\site-packages (from tensorflow-intel==2.11.0; platform_system == \"Windows\"->tensorflow>=1.13.1; extra == \"all\"->aif360[all]) (0.2.0)\n",
      "Requirement already satisfied: absl-py>=1.0.0 in c:\\users\\bengo\\anaconda3\\lib\\site-packages (from tensorflow-intel==2.11.0; platform_system == \"Windows\"->tensorflow>=1.13.1; extra == \"all\"->aif360[all]) (2.0.0)\n",
      "Requirement already satisfied: grpcio<2.0,>=1.24.3 in c:\\users\\bengo\\anaconda3\\lib\\site-packages (from tensorflow-intel==2.11.0; platform_system == \"Windows\"->tensorflow>=1.13.1; extra == \"all\"->aif360[all]) (1.60.0)\n",
      "Requirement already satisfied: astunparse>=1.6.0 in c:\\users\\bengo\\anaconda3\\lib\\site-packages (from tensorflow-intel==2.11.0; platform_system == \"Windows\"->tensorflow>=1.13.1; extra == \"all\"->aif360[all]) (1.6.3)\n",
      "Requirement already satisfied: tensorflow-io-gcs-filesystem>=0.23.1; platform_machine != \"arm64\" or platform_system != \"Darwin\" in c:\\users\\bengo\\anaconda3\\lib\\site-packages (from tensorflow-intel==2.11.0; platform_system == \"Windows\"->tensorflow>=1.13.1; extra == \"all\"->aif360[all]) (0.31.0)\n",
      "Requirement already satisfied: termcolor>=1.1.0 in c:\\users\\bengo\\anaconda3\\lib\\site-packages (from tensorflow-intel==2.11.0; platform_system == \"Windows\"->tensorflow>=1.13.1; extra == \"all\"->aif360[all]) (2.3.0)\n",
      "Requirement already satisfied: gast<=0.4.0,>=0.2.1 in c:\\users\\bengo\\anaconda3\\lib\\site-packages (from tensorflow-intel==2.11.0; platform_system == \"Windows\"->tensorflow>=1.13.1; extra == \"all\"->aif360[all]) (0.4.0)\n",
      "Requirement already satisfied: tensorboard<2.12,>=2.11 in c:\\users\\bengo\\anaconda3\\lib\\site-packages (from tensorflow-intel==2.11.0; platform_system == \"Windows\"->tensorflow>=1.13.1; extra == \"all\"->aif360[all]) (2.11.2)\n",
      "Requirement already satisfied: tensorflow-estimator<2.12,>=2.11.0 in c:\\users\\bengo\\anaconda3\\lib\\site-packages (from tensorflow-intel==2.11.0; platform_system == \"Windows\"->tensorflow>=1.13.1; extra == \"all\"->aif360[all]) (2.11.0)\n",
      "Requirement already satisfied: wrapt>=1.11.0 in c:\\users\\bengo\\anaconda3\\lib\\site-packages (from tensorflow-intel==2.11.0; platform_system == \"Windows\"->tensorflow>=1.13.1; extra == \"all\"->aif360[all]) (1.11.2)\n",
      "Requirement already satisfied: opt-einsum>=2.3.2 in c:\\users\\bengo\\anaconda3\\lib\\site-packages (from tensorflow-intel==2.11.0; platform_system == \"Windows\"->tensorflow>=1.13.1; extra == \"all\"->aif360[all]) (3.3.0)\n",
      "Requirement already satisfied: libclang>=13.0.0 in c:\\users\\bengo\\anaconda3\\lib\\site-packages (from tensorflow-intel==2.11.0; platform_system == \"Windows\"->tensorflow>=1.13.1; extra == \"all\"->aif360[all]) (16.0.6)\n",
      "Requirement already satisfied: h5py>=2.9.0 in c:\\users\\bengo\\anaconda3\\lib\\site-packages (from tensorflow-intel==2.11.0; platform_system == \"Windows\"->tensorflow>=1.13.1; extra == \"all\"->aif360[all]) (2.9.0)\n",
      "Requirement already satisfied: flatbuffers>=2.0 in c:\\users\\bengo\\anaconda3\\lib\\site-packages (from tensorflow-intel==2.11.0; platform_system == \"Windows\"->tensorflow>=1.13.1; extra == \"all\"->aif360[all]) (23.5.26)\n",
      "Requirement already satisfied: keras<2.12,>=2.11.0 in c:\\users\\bengo\\anaconda3\\lib\\site-packages (from tensorflow-intel==2.11.0; platform_system == \"Windows\"->tensorflow>=1.13.1; extra == \"all\"->aif360[all]) (2.11.0)\n",
      "Requirement already satisfied: protobuf<3.20,>=3.9.2 in c:\\users\\bengo\\anaconda3\\lib\\site-packages (from tensorflow-intel==2.11.0; platform_system == \"Windows\"->tensorflow>=1.13.1; extra == \"all\"->aif360[all]) (3.19.6)\n",
      "Requirement already satisfied: pycparser in c:\\users\\bengo\\anaconda3\\lib\\site-packages (from cffi>=1.10.0->rpy2; extra == \"all\"->aif360[all]) (2.19)\n",
      "Requirement already satisfied: tzdata; platform_system == \"Windows\" in c:\\users\\bengo\\anaconda3\\lib\\site-packages (from tzlocal->rpy2; extra == \"all\"->aif360[all]) (2023.4)\n",
      "Requirement already satisfied: psutil in c:\\users\\bengo\\anaconda3\\lib\\site-packages (from memory-profiler->tempeh; extra == \"all\"->aif360[all]) (5.6.3)\n",
      "Requirement already satisfied: idna<2.9,>=2.5 in c:\\users\\bengo\\anaconda3\\lib\\site-packages (from requests->tempeh; extra == \"all\"->aif360[all]) (2.8)\n",
      "Requirement already satisfied: certifi>=2017.4.17 in c:\\users\\bengo\\anaconda3\\lib\\site-packages (from requests->tempeh; extra == \"all\"->aif360[all]) (2019.6.16)\n",
      "Requirement already satisfied: urllib3!=1.25.0,!=1.25.1,<1.26,>=1.21.1 in c:\\users\\bengo\\anaconda3\\lib\\site-packages (from requests->tempeh; extra == \"all\"->aif360[all]) (1.24.2)\n",
      "Requirement already satisfied: chardet<3.1.0,>=3.0.2 in c:\\users\\bengo\\anaconda3\\lib\\site-packages (from requests->tempeh; extra == \"all\"->aif360[all]) (3.0.4)\n",
      "Requirement already satisfied: numba in c:\\users\\bengo\\anaconda3\\lib\\site-packages (from shap->tempeh; extra == \"all\"->aif360[all]) (0.44.1)\n",
      "Requirement already satisfied: cloudpickle in c:\\users\\bengo\\anaconda3\\lib\\site-packages (from shap->tempeh; extra == \"all\"->aif360[all]) (1.2.1)\n",
      "Requirement already satisfied: slicer==0.0.7 in c:\\users\\bengo\\anaconda3\\lib\\site-packages (from shap->tempeh; extra == \"all\"->aif360[all]) (0.0.7)\n",
      "Requirement already satisfied: jsonschema!=2.5.0,>=2.4 in c:\\users\\bengo\\anaconda3\\lib\\site-packages (from nbformat>=4.4->nbconvert->jupyter; extra == \"all\"->aif360[all]) (3.0.1)\n",
      "Requirement already satisfied: webencodings in c:\\users\\bengo\\anaconda3\\lib\\site-packages (from bleach->nbconvert->jupyter; extra == \"all\"->aif360[all]) (0.5.1)\n",
      "Requirement already satisfied: parso>=0.3.0 in c:\\users\\bengo\\anaconda3\\lib\\site-packages (from jedi>=0.10->ipython<9->ipympl; extra == \"all\"->aif360[all]) (0.5.0)\n",
      "Requirement already satisfied: wheel<1.0,>=0.23.0 in c:\\users\\bengo\\anaconda3\\lib\\site-packages (from astunparse>=1.6.0->tensorflow-intel==2.11.0; platform_system == \"Windows\"->tensorflow>=1.13.1; extra == \"all\"->aif360[all]) (0.33.4)\n",
      "Requirement already satisfied: markdown>=2.6.8 in c:\\users\\bengo\\anaconda3\\lib\\site-packages (from tensorboard<2.12,>=2.11->tensorflow-intel==2.11.0; platform_system == \"Windows\"->tensorflow>=1.13.1; extra == \"all\"->aif360[all]) (3.4.4)\n",
      "Requirement already satisfied: tensorboard-data-server<0.7.0,>=0.6.0 in c:\\users\\bengo\\anaconda3\\lib\\site-packages (from tensorboard<2.12,>=2.11->tensorflow-intel==2.11.0; platform_system == \"Windows\"->tensorflow>=1.13.1; extra == \"all\"->aif360[all]) (0.6.1)\n",
      "Requirement already satisfied: google-auth-oauthlib<0.5,>=0.4.1 in c:\\users\\bengo\\anaconda3\\lib\\site-packages (from tensorboard<2.12,>=2.11->tensorflow-intel==2.11.0; platform_system == \"Windows\"->tensorflow>=1.13.1; extra == \"all\"->aif360[all]) (0.4.6)\n",
      "Requirement already satisfied: werkzeug>=1.0.1 in c:\\users\\bengo\\anaconda3\\lib\\site-packages (from tensorboard<2.12,>=2.11->tensorflow-intel==2.11.0; platform_system == \"Windows\"->tensorflow>=1.13.1; extra == \"all\"->aif360[all]) (2.2.3)\n",
      "Requirement already satisfied: google-auth<3,>=1.6.3 in c:\\users\\bengo\\anaconda3\\lib\\site-packages (from tensorboard<2.12,>=2.11->tensorflow-intel==2.11.0; platform_system == \"Windows\"->tensorflow>=1.13.1; extra == \"all\"->aif360[all]) (2.26.1)\n",
      "Requirement already satisfied: tensorboard-plugin-wit>=1.6.0 in c:\\users\\bengo\\anaconda3\\lib\\site-packages (from tensorboard<2.12,>=2.11->tensorflow-intel==2.11.0; platform_system == \"Windows\"->tensorflow>=1.13.1; extra == \"all\"->aif360[all]) (1.8.1)\n",
      "Requirement already satisfied: llvmlite>=0.29.0 in c:\\users\\bengo\\anaconda3\\lib\\site-packages (from numba->shap->tempeh; extra == \"all\"->aif360[all]) (0.29.0)\n",
      "Requirement already satisfied: pyrsistent>=0.14.0 in c:\\users\\bengo\\anaconda3\\lib\\site-packages (from jsonschema!=2.5.0,>=2.4->nbformat>=4.4->nbconvert->jupyter; extra == \"all\"->aif360[all]) (0.14.11)\n",
      "Requirement already satisfied: requests-oauthlib>=0.7.0 in c:\\users\\bengo\\anaconda3\\lib\\site-packages (from google-auth-oauthlib<0.5,>=0.4.1->tensorboard<2.12,>=2.11->tensorflow-intel==2.11.0; platform_system == \"Windows\"->tensorflow>=1.13.1; extra == \"all\"->aif360[all]) (1.3.1)\n",
      "Requirement already satisfied: cachetools<6.0,>=2.0.0 in c:\\users\\bengo\\anaconda3\\lib\\site-packages (from google-auth<3,>=1.6.3->tensorboard<2.12,>=2.11->tensorflow-intel==2.11.0; platform_system == \"Windows\"->tensorflow>=1.13.1; extra == \"all\"->aif360[all]) (5.3.2)\n",
      "Requirement already satisfied: rsa<5,>=3.1.4 in c:\\users\\bengo\\anaconda3\\lib\\site-packages (from google-auth<3,>=1.6.3->tensorboard<2.12,>=2.11->tensorflow-intel==2.11.0; platform_system == \"Windows\"->tensorflow>=1.13.1; extra == \"all\"->aif360[all]) (4.9)\n",
      "Requirement already satisfied: pyasn1-modules>=0.2.1 in c:\\users\\bengo\\anaconda3\\lib\\site-packages (from google-auth<3,>=1.6.3->tensorboard<2.12,>=2.11->tensorflow-intel==2.11.0; platform_system == \"Windows\"->tensorflow>=1.13.1; extra == \"all\"->aif360[all]) (0.3.0)\n",
      "Requirement already satisfied: oauthlib>=3.0.0 in c:\\users\\bengo\\anaconda3\\lib\\site-packages (from requests-oauthlib>=0.7.0->google-auth-oauthlib<0.5,>=0.4.1->tensorboard<2.12,>=2.11->tensorflow-intel==2.11.0; platform_system == \"Windows\"->tensorflow>=1.13.1; extra == \"all\"->aif360[all]) (3.2.2)\n",
      "Requirement already satisfied: pyasn1>=0.1.3 in c:\\users\\bengo\\anaconda3\\lib\\site-packages (from rsa<5,>=3.1.4->google-auth<3,>=1.6.3->tensorboard<2.12,>=2.11->tensorflow-intel==2.11.0; platform_system == \"Windows\"->tensorflow>=1.13.1; extra == \"all\"->aif360[all]) (0.5.1)\n",
      "Note: you may need to restart the kernel to use updated packages.\n"
     ]
    }
   ],
   "source": [
    "pip install aif360[all]"
   ]
  },
  {
   "cell_type": "code",
   "execution_count": 6,
   "metadata": {
    "scrolled": true
   },
   "outputs": [
    {
     "name": "stdout",
     "output_type": "stream",
     "text": [
      "Requirement already satisfied: aif360[LawSchoolGPA] in c:\\users\\bengo\\anaconda3\\lib\\site-packages (0.5.0)\n",
      "Requirement already satisfied: matplotlib in c:\\users\\bengo\\anaconda3\\lib\\site-packages (from aif360[LawSchoolGPA]) (3.1.0)\n",
      "Requirement already satisfied: scikit-learn>=1.0 in c:\\users\\bengo\\anaconda3\\lib\\site-packages (from aif360[LawSchoolGPA]) (1.0.2)\n",
      "Requirement already satisfied: scipy>=1.2.0 in c:\\users\\bengo\\anaconda3\\lib\\site-packages (from aif360[LawSchoolGPA]) (1.2.1)\n",
      "Requirement already satisfied: numpy>=1.16 in c:\\users\\bengo\\anaconda3\\lib\\site-packages (from aif360[LawSchoolGPA]) (1.16.4)\n",
      "Requirement already satisfied: pandas>=0.24.0 in c:\\users\\bengo\\anaconda3\\lib\\site-packages (from aif360[LawSchoolGPA]) (0.24.2)\n",
      "Requirement already satisfied: tempeh; extra == \"lawschoolgpa\" in c:\\users\\bengo\\anaconda3\\lib\\site-packages (from aif360[LawSchoolGPA]) (0.1.12)\n",
      "Requirement already satisfied: cycler>=0.10 in c:\\users\\bengo\\anaconda3\\lib\\site-packages (from matplotlib->aif360[LawSchoolGPA]) (0.10.0)\n",
      "Requirement already satisfied: kiwisolver>=1.0.1 in c:\\users\\bengo\\anaconda3\\lib\\site-packages (from matplotlib->aif360[LawSchoolGPA]) (1.1.0)\n",
      "Requirement already satisfied: pyparsing!=2.0.4,!=2.1.2,!=2.1.6,>=2.0.1 in c:\\users\\bengo\\anaconda3\\lib\\site-packages (from matplotlib->aif360[LawSchoolGPA]) (2.4.0)\n",
      "Requirement already satisfied: python-dateutil>=2.1 in c:\\users\\bengo\\anaconda3\\lib\\site-packages (from matplotlib->aif360[LawSchoolGPA]) (2.8.0)\n",
      "Requirement already satisfied: joblib>=0.11 in c:\\users\\bengo\\anaconda3\\lib\\site-packages (from scikit-learn>=1.0->aif360[LawSchoolGPA]) (0.13.2)\n",
      "Requirement already satisfied: threadpoolctl>=2.0.0 in c:\\users\\bengo\\anaconda3\\lib\\site-packages (from scikit-learn>=1.0->aif360[LawSchoolGPA]) (3.1.0)\n",
      "Requirement already satisfied: pytz>=2011k in c:\\users\\bengo\\anaconda3\\lib\\site-packages (from pandas>=0.24.0->aif360[LawSchoolGPA]) (2019.1)\n",
      "Requirement already satisfied: requests in c:\\users\\bengo\\anaconda3\\lib\\site-packages (from tempeh; extra == \"lawschoolgpa\"->aif360[LawSchoolGPA]) (2.22.0)\n",
      "Requirement already satisfied: shap in c:\\users\\bengo\\anaconda3\\lib\\site-packages (from tempeh; extra == \"lawschoolgpa\"->aif360[LawSchoolGPA]) (0.42.1)\n",
      "Requirement already satisfied: pytest in c:\\users\\bengo\\anaconda3\\lib\\site-packages (from tempeh; extra == \"lawschoolgpa\"->aif360[LawSchoolGPA]) (5.0.1)\n",
      "Requirement already satisfied: memory-profiler in c:\\users\\bengo\\anaconda3\\lib\\site-packages (from tempeh; extra == \"lawschoolgpa\"->aif360[LawSchoolGPA]) (0.61.0)\n",
      "Requirement already satisfied: six in c:\\users\\bengo\\anaconda3\\lib\\site-packages (from cycler>=0.10->matplotlib->aif360[LawSchoolGPA]) (1.12.0)\n",
      "Requirement already satisfied: setuptools in c:\\users\\bengo\\anaconda3\\lib\\site-packages (from kiwisolver>=1.0.1->matplotlib->aif360[LawSchoolGPA]) (68.0.0)\n",
      "Requirement already satisfied: chardet<3.1.0,>=3.0.2 in c:\\users\\bengo\\anaconda3\\lib\\site-packages (from requests->tempeh; extra == \"lawschoolgpa\"->aif360[LawSchoolGPA]) (3.0.4)\n",
      "Requirement already satisfied: certifi>=2017.4.17 in c:\\users\\bengo\\anaconda3\\lib\\site-packages (from requests->tempeh; extra == \"lawschoolgpa\"->aif360[LawSchoolGPA]) (2019.6.16)\n",
      "Requirement already satisfied: urllib3!=1.25.0,!=1.25.1,<1.26,>=1.21.1 in c:\\users\\bengo\\anaconda3\\lib\\site-packages (from requests->tempeh; extra == \"lawschoolgpa\"->aif360[LawSchoolGPA]) (1.24.2)\n",
      "Requirement already satisfied: idna<2.9,>=2.5 in c:\\users\\bengo\\anaconda3\\lib\\site-packages (from requests->tempeh; extra == \"lawschoolgpa\"->aif360[LawSchoolGPA]) (2.8)\n",
      "Requirement already satisfied: numba in c:\\users\\bengo\\anaconda3\\lib\\site-packages (from shap->tempeh; extra == \"lawschoolgpa\"->aif360[LawSchoolGPA]) (0.44.1)\n",
      "Requirement already satisfied: packaging>20.9 in c:\\users\\bengo\\anaconda3\\lib\\site-packages (from shap->tempeh; extra == \"lawschoolgpa\"->aif360[LawSchoolGPA]) (23.2)\n",
      "Requirement already satisfied: slicer==0.0.7 in c:\\users\\bengo\\anaconda3\\lib\\site-packages (from shap->tempeh; extra == \"lawschoolgpa\"->aif360[LawSchoolGPA]) (0.0.7)\n",
      "Requirement already satisfied: tqdm>=4.27.0 in c:\\users\\bengo\\anaconda3\\lib\\site-packages (from shap->tempeh; extra == \"lawschoolgpa\"->aif360[LawSchoolGPA]) (4.32.1)\n",
      "Requirement already satisfied: cloudpickle in c:\\users\\bengo\\anaconda3\\lib\\site-packages (from shap->tempeh; extra == \"lawschoolgpa\"->aif360[LawSchoolGPA]) (1.2.1)\n",
      "Requirement already satisfied: py>=1.5.0 in c:\\users\\bengo\\anaconda3\\lib\\site-packages (from pytest->tempeh; extra == \"lawschoolgpa\"->aif360[LawSchoolGPA]) (1.8.0)\n",
      "Requirement already satisfied: attrs>=17.4.0 in c:\\users\\bengo\\anaconda3\\lib\\site-packages (from pytest->tempeh; extra == \"lawschoolgpa\"->aif360[LawSchoolGPA]) (19.1.0)\n",
      "Requirement already satisfied: more-itertools>=4.0.0 in c:\\users\\bengo\\anaconda3\\lib\\site-packages (from pytest->tempeh; extra == \"lawschoolgpa\"->aif360[LawSchoolGPA]) (7.0.0)\n",
      "Requirement already satisfied: atomicwrites>=1.0 in c:\\users\\bengo\\anaconda3\\lib\\site-packages (from pytest->tempeh; extra == \"lawschoolgpa\"->aif360[LawSchoolGPA]) (1.3.0)\n",
      "Requirement already satisfied: pluggy<1.0,>=0.12 in c:\\users\\bengo\\anaconda3\\lib\\site-packages (from pytest->tempeh; extra == \"lawschoolgpa\"->aif360[LawSchoolGPA]) (0.12.0)\n",
      "Requirement already satisfied: importlib-metadata>=0.12 in c:\\users\\bengo\\anaconda3\\lib\\site-packages (from pytest->tempeh; extra == \"lawschoolgpa\"->aif360[LawSchoolGPA]) (6.7.0)\n",
      "Requirement already satisfied: wcwidth in c:\\users\\bengo\\anaconda3\\lib\\site-packages (from pytest->tempeh; extra == \"lawschoolgpa\"->aif360[LawSchoolGPA]) (0.1.7)\n",
      "Requirement already satisfied: colorama in c:\\users\\bengo\\anaconda3\\lib\\site-packages (from pytest->tempeh; extra == \"lawschoolgpa\"->aif360[LawSchoolGPA]) (0.4.1)\n",
      "Requirement already satisfied: psutil in c:\\users\\bengo\\anaconda3\\lib\\site-packages (from memory-profiler->tempeh; extra == \"lawschoolgpa\"->aif360[LawSchoolGPA]) (5.6.3)\n",
      "Requirement already satisfied: llvmlite>=0.29.0 in c:\\users\\bengo\\anaconda3\\lib\\site-packages (from numba->shap->tempeh; extra == \"lawschoolgpa\"->aif360[LawSchoolGPA]) (0.29.0)\n",
      "Requirement already satisfied: zipp>=0.5 in c:\\users\\bengo\\anaconda3\\lib\\site-packages (from importlib-metadata>=0.12->pytest->tempeh; extra == \"lawschoolgpa\"->aif360[LawSchoolGPA]) (0.5.1)\n",
      "Requirement already satisfied: typing-extensions>=3.6.4; python_version < \"3.8\" in c:\\users\\bengo\\anaconda3\\lib\\site-packages (from importlib-metadata>=0.12->pytest->tempeh; extra == \"lawschoolgpa\"->aif360[LawSchoolGPA]) (4.7.1)\n",
      "Note: you may need to restart the kernel to use updated packages.\n"
     ]
    }
   ],
   "source": [
    "pip install aif360[LawSchoolGPA]"
   ]
  },
  {
   "cell_type": "code",
   "execution_count": 7,
   "metadata": {
    "scrolled": true
   },
   "outputs": [
    {
     "name": "stdout",
     "output_type": "stream",
     "text": [
      "Requirement already satisfied: aif360[AdversarialDebiasing] in c:\\users\\bengo\\anaconda3\\lib\\site-packages (0.5.0)\n",
      "Requirement already satisfied: scikit-learn>=1.0 in c:\\users\\bengo\\anaconda3\\lib\\site-packages (from aif360[AdversarialDebiasing]) (1.0.2)\n",
      "Requirement already satisfied: matplotlib in c:\\users\\bengo\\anaconda3\\lib\\site-packages (from aif360[AdversarialDebiasing]) (3.1.0)\n",
      "Requirement already satisfied: pandas>=0.24.0 in c:\\users\\bengo\\anaconda3\\lib\\site-packages (from aif360[AdversarialDebiasing]) (0.24.2)\n",
      "Requirement already satisfied: scipy>=1.2.0 in c:\\users\\bengo\\anaconda3\\lib\\site-packages (from aif360[AdversarialDebiasing]) (1.2.1)\n",
      "Requirement already satisfied: numpy>=1.16 in c:\\users\\bengo\\anaconda3\\lib\\site-packages (from aif360[AdversarialDebiasing]) (1.16.4)\n",
      "Requirement already satisfied: tensorflow>=1.13.1; extra == \"adversarialdebiasing\" in c:\\users\\bengo\\anaconda3\\lib\\site-packages (from aif360[AdversarialDebiasing]) (2.11.0)\n",
      "Requirement already satisfied: joblib>=0.11 in c:\\users\\bengo\\anaconda3\\lib\\site-packages (from scikit-learn>=1.0->aif360[AdversarialDebiasing]) (0.13.2)\n",
      "Requirement already satisfied: threadpoolctl>=2.0.0 in c:\\users\\bengo\\anaconda3\\lib\\site-packages (from scikit-learn>=1.0->aif360[AdversarialDebiasing]) (3.1.0)\n",
      "Requirement already satisfied: cycler>=0.10 in c:\\users\\bengo\\anaconda3\\lib\\site-packages (from matplotlib->aif360[AdversarialDebiasing]) (0.10.0)\n",
      "Requirement already satisfied: kiwisolver>=1.0.1 in c:\\users\\bengo\\anaconda3\\lib\\site-packages (from matplotlib->aif360[AdversarialDebiasing]) (1.1.0)\n",
      "Requirement already satisfied: pyparsing!=2.0.4,!=2.1.2,!=2.1.6,>=2.0.1 in c:\\users\\bengo\\anaconda3\\lib\\site-packages (from matplotlib->aif360[AdversarialDebiasing]) (2.4.0)\n",
      "Requirement already satisfied: python-dateutil>=2.1 in c:\\users\\bengo\\anaconda3\\lib\\site-packages (from matplotlib->aif360[AdversarialDebiasing]) (2.8.0)\n",
      "Requirement already satisfied: pytz>=2011k in c:\\users\\bengo\\anaconda3\\lib\\site-packages (from pandas>=0.24.0->aif360[AdversarialDebiasing]) (2019.1)\n",
      "Requirement already satisfied: tensorflow-intel==2.11.0; platform_system == \"Windows\" in c:\\users\\bengo\\anaconda3\\lib\\site-packages (from tensorflow>=1.13.1; extra == \"adversarialdebiasing\"->aif360[AdversarialDebiasing]) (2.11.0)\n",
      "Requirement already satisfied: six in c:\\users\\bengo\\anaconda3\\lib\\site-packages (from cycler>=0.10->matplotlib->aif360[AdversarialDebiasing]) (1.12.0)\n",
      "Requirement already satisfied: setuptools in c:\\users\\bengo\\anaconda3\\lib\\site-packages (from kiwisolver>=1.0.1->matplotlib->aif360[AdversarialDebiasing]) (68.0.0)\n",
      "Requirement already satisfied: tensorboard<2.12,>=2.11 in c:\\users\\bengo\\anaconda3\\lib\\site-packages (from tensorflow-intel==2.11.0; platform_system == \"Windows\"->tensorflow>=1.13.1; extra == \"adversarialdebiasing\"->aif360[AdversarialDebiasing]) (2.11.2)\n",
      "Requirement already satisfied: tensorflow-estimator<2.12,>=2.11.0 in c:\\users\\bengo\\anaconda3\\lib\\site-packages (from tensorflow-intel==2.11.0; platform_system == \"Windows\"->tensorflow>=1.13.1; extra == \"adversarialdebiasing\"->aif360[AdversarialDebiasing]) (2.11.0)\n",
      "Requirement already satisfied: gast<=0.4.0,>=0.2.1 in c:\\users\\bengo\\anaconda3\\lib\\site-packages (from tensorflow-intel==2.11.0; platform_system == \"Windows\"->tensorflow>=1.13.1; extra == \"adversarialdebiasing\"->aif360[AdversarialDebiasing]) (0.4.0)\n",
      "Requirement already satisfied: astunparse>=1.6.0 in c:\\users\\bengo\\anaconda3\\lib\\site-packages (from tensorflow-intel==2.11.0; platform_system == \"Windows\"->tensorflow>=1.13.1; extra == \"adversarialdebiasing\"->aif360[AdversarialDebiasing]) (1.6.3)\n",
      "Requirement already satisfied: absl-py>=1.0.0 in c:\\users\\bengo\\anaconda3\\lib\\site-packages (from tensorflow-intel==2.11.0; platform_system == \"Windows\"->tensorflow>=1.13.1; extra == \"adversarialdebiasing\"->aif360[AdversarialDebiasing]) (2.0.0)\n",
      "Requirement already satisfied: google-pasta>=0.1.1 in c:\\users\\bengo\\anaconda3\\lib\\site-packages (from tensorflow-intel==2.11.0; platform_system == \"Windows\"->tensorflow>=1.13.1; extra == \"adversarialdebiasing\"->aif360[AdversarialDebiasing]) (0.2.0)\n",
      "Requirement already satisfied: termcolor>=1.1.0 in c:\\users\\bengo\\anaconda3\\lib\\site-packages (from tensorflow-intel==2.11.0; platform_system == \"Windows\"->tensorflow>=1.13.1; extra == \"adversarialdebiasing\"->aif360[AdversarialDebiasing]) (2.3.0)\n",
      "Requirement already satisfied: protobuf<3.20,>=3.9.2 in c:\\users\\bengo\\anaconda3\\lib\\site-packages (from tensorflow-intel==2.11.0; platform_system == \"Windows\"->tensorflow>=1.13.1; extra == \"adversarialdebiasing\"->aif360[AdversarialDebiasing]) (3.19.6)\n",
      "Requirement already satisfied: libclang>=13.0.0 in c:\\users\\bengo\\anaconda3\\lib\\site-packages (from tensorflow-intel==2.11.0; platform_system == \"Windows\"->tensorflow>=1.13.1; extra == \"adversarialdebiasing\"->aif360[AdversarialDebiasing]) (16.0.6)\n",
      "Requirement already satisfied: typing-extensions>=3.6.6 in c:\\users\\bengo\\anaconda3\\lib\\site-packages (from tensorflow-intel==2.11.0; platform_system == \"Windows\"->tensorflow>=1.13.1; extra == \"adversarialdebiasing\"->aif360[AdversarialDebiasing]) (4.7.1)\n",
      "Requirement already satisfied: h5py>=2.9.0 in c:\\users\\bengo\\anaconda3\\lib\\site-packages (from tensorflow-intel==2.11.0; platform_system == \"Windows\"->tensorflow>=1.13.1; extra == \"adversarialdebiasing\"->aif360[AdversarialDebiasing]) (2.9.0)\n",
      "Requirement already satisfied: opt-einsum>=2.3.2 in c:\\users\\bengo\\anaconda3\\lib\\site-packages (from tensorflow-intel==2.11.0; platform_system == \"Windows\"->tensorflow>=1.13.1; extra == \"adversarialdebiasing\"->aif360[AdversarialDebiasing]) (3.3.0)\n",
      "Requirement already satisfied: flatbuffers>=2.0 in c:\\users\\bengo\\anaconda3\\lib\\site-packages (from tensorflow-intel==2.11.0; platform_system == \"Windows\"->tensorflow>=1.13.1; extra == \"adversarialdebiasing\"->aif360[AdversarialDebiasing]) (23.5.26)\n",
      "Requirement already satisfied: grpcio<2.0,>=1.24.3 in c:\\users\\bengo\\anaconda3\\lib\\site-packages (from tensorflow-intel==2.11.0; platform_system == \"Windows\"->tensorflow>=1.13.1; extra == \"adversarialdebiasing\"->aif360[AdversarialDebiasing]) (1.60.0)\n",
      "Requirement already satisfied: packaging in c:\\users\\bengo\\anaconda3\\lib\\site-packages (from tensorflow-intel==2.11.0; platform_system == \"Windows\"->tensorflow>=1.13.1; extra == \"adversarialdebiasing\"->aif360[AdversarialDebiasing]) (23.2)\n",
      "Requirement already satisfied: tensorflow-io-gcs-filesystem>=0.23.1; platform_machine != \"arm64\" or platform_system != \"Darwin\" in c:\\users\\bengo\\anaconda3\\lib\\site-packages (from tensorflow-intel==2.11.0; platform_system == \"Windows\"->tensorflow>=1.13.1; extra == \"adversarialdebiasing\"->aif360[AdversarialDebiasing]) (0.31.0)\n",
      "Requirement already satisfied: keras<2.12,>=2.11.0 in c:\\users\\bengo\\anaconda3\\lib\\site-packages (from tensorflow-intel==2.11.0; platform_system == \"Windows\"->tensorflow>=1.13.1; extra == \"adversarialdebiasing\"->aif360[AdversarialDebiasing]) (2.11.0)\n",
      "Requirement already satisfied: wrapt>=1.11.0 in c:\\users\\bengo\\anaconda3\\lib\\site-packages (from tensorflow-intel==2.11.0; platform_system == \"Windows\"->tensorflow>=1.13.1; extra == \"adversarialdebiasing\"->aif360[AdversarialDebiasing]) (1.11.2)\n",
      "Requirement already satisfied: tensorboard-data-server<0.7.0,>=0.6.0 in c:\\users\\bengo\\anaconda3\\lib\\site-packages (from tensorboard<2.12,>=2.11->tensorflow-intel==2.11.0; platform_system == \"Windows\"->tensorflow>=1.13.1; extra == \"adversarialdebiasing\"->aif360[AdversarialDebiasing]) (0.6.1)\n",
      "Requirement already satisfied: wheel>=0.26 in c:\\users\\bengo\\anaconda3\\lib\\site-packages (from tensorboard<2.12,>=2.11->tensorflow-intel==2.11.0; platform_system == \"Windows\"->tensorflow>=1.13.1; extra == \"adversarialdebiasing\"->aif360[AdversarialDebiasing]) (0.33.4)\n",
      "Requirement already satisfied: requests<3,>=2.21.0 in c:\\users\\bengo\\anaconda3\\lib\\site-packages (from tensorboard<2.12,>=2.11->tensorflow-intel==2.11.0; platform_system == \"Windows\"->tensorflow>=1.13.1; extra == \"adversarialdebiasing\"->aif360[AdversarialDebiasing]) (2.22.0)\n"
     ]
    },
    {
     "name": "stdout",
     "output_type": "stream",
     "text": [
      "Requirement already satisfied: werkzeug>=1.0.1 in c:\\users\\bengo\\anaconda3\\lib\\site-packages (from tensorboard<2.12,>=2.11->tensorflow-intel==2.11.0; platform_system == \"Windows\"->tensorflow>=1.13.1; extra == \"adversarialdebiasing\"->aif360[AdversarialDebiasing]) (2.2.3)\n",
      "Requirement already satisfied: google-auth<3,>=1.6.3 in c:\\users\\bengo\\anaconda3\\lib\\site-packages (from tensorboard<2.12,>=2.11->tensorflow-intel==2.11.0; platform_system == \"Windows\"->tensorflow>=1.13.1; extra == \"adversarialdebiasing\"->aif360[AdversarialDebiasing]) (2.26.1)\n",
      "Requirement already satisfied: markdown>=2.6.8 in c:\\users\\bengo\\anaconda3\\lib\\site-packages (from tensorboard<2.12,>=2.11->tensorflow-intel==2.11.0; platform_system == \"Windows\"->tensorflow>=1.13.1; extra == \"adversarialdebiasing\"->aif360[AdversarialDebiasing]) (3.4.4)\n",
      "Requirement already satisfied: google-auth-oauthlib<0.5,>=0.4.1 in c:\\users\\bengo\\anaconda3\\lib\\site-packages (from tensorboard<2.12,>=2.11->tensorflow-intel==2.11.0; platform_system == \"Windows\"->tensorflow>=1.13.1; extra == \"adversarialdebiasing\"->aif360[AdversarialDebiasing]) (0.4.6)\n",
      "Requirement already satisfied: tensorboard-plugin-wit>=1.6.0 in c:\\users\\bengo\\anaconda3\\lib\\site-packages (from tensorboard<2.12,>=2.11->tensorflow-intel==2.11.0; platform_system == \"Windows\"->tensorflow>=1.13.1; extra == \"adversarialdebiasing\"->aif360[AdversarialDebiasing]) (1.8.1)\n",
      "Requirement already satisfied: idna<2.9,>=2.5 in c:\\users\\bengo\\anaconda3\\lib\\site-packages (from requests<3,>=2.21.0->tensorboard<2.12,>=2.11->tensorflow-intel==2.11.0; platform_system == \"Windows\"->tensorflow>=1.13.1; extra == \"adversarialdebiasing\"->aif360[AdversarialDebiasing]) (2.8)\n",
      "Requirement already satisfied: chardet<3.1.0,>=3.0.2 in c:\\users\\bengo\\anaconda3\\lib\\site-packages (from requests<3,>=2.21.0->tensorboard<2.12,>=2.11->tensorflow-intel==2.11.0; platform_system == \"Windows\"->tensorflow>=1.13.1; extra == \"adversarialdebiasing\"->aif360[AdversarialDebiasing]) (3.0.4)\n",
      "Requirement already satisfied: certifi>=2017.4.17 in c:\\users\\bengo\\anaconda3\\lib\\site-packages (from requests<3,>=2.21.0->tensorboard<2.12,>=2.11->tensorflow-intel==2.11.0; platform_system == \"Windows\"->tensorflow>=1.13.1; extra == \"adversarialdebiasing\"->aif360[AdversarialDebiasing]) (2019.6.16)\n",
      "Requirement already satisfied: urllib3!=1.25.0,!=1.25.1,<1.26,>=1.21.1 in c:\\users\\bengo\\anaconda3\\lib\\site-packages (from requests<3,>=2.21.0->tensorboard<2.12,>=2.11->tensorflow-intel==2.11.0; platform_system == \"Windows\"->tensorflow>=1.13.1; extra == \"adversarialdebiasing\"->aif360[AdversarialDebiasing]) (1.24.2)\n",
      "Requirement already satisfied: MarkupSafe>=2.1.1 in c:\\users\\bengo\\anaconda3\\lib\\site-packages (from werkzeug>=1.0.1->tensorboard<2.12,>=2.11->tensorflow-intel==2.11.0; platform_system == \"Windows\"->tensorflow>=1.13.1; extra == \"adversarialdebiasing\"->aif360[AdversarialDebiasing]) (2.1.3)\n",
      "Requirement already satisfied: rsa<5,>=3.1.4 in c:\\users\\bengo\\anaconda3\\lib\\site-packages (from google-auth<3,>=1.6.3->tensorboard<2.12,>=2.11->tensorflow-intel==2.11.0; platform_system == \"Windows\"->tensorflow>=1.13.1; extra == \"adversarialdebiasing\"->aif360[AdversarialDebiasing]) (4.9)\n",
      "Requirement already satisfied: pyasn1-modules>=0.2.1 in c:\\users\\bengo\\anaconda3\\lib\\site-packages (from google-auth<3,>=1.6.3->tensorboard<2.12,>=2.11->tensorflow-intel==2.11.0; platform_system == \"Windows\"->tensorflow>=1.13.1; extra == \"adversarialdebiasing\"->aif360[AdversarialDebiasing]) (0.3.0)\n",
      "Requirement already satisfied: cachetools<6.0,>=2.0.0 in c:\\users\\bengo\\anaconda3\\lib\\site-packages (from google-auth<3,>=1.6.3->tensorboard<2.12,>=2.11->tensorflow-intel==2.11.0; platform_system == \"Windows\"->tensorflow>=1.13.1; extra == \"adversarialdebiasing\"->aif360[AdversarialDebiasing]) (5.3.2)\n",
      "Requirement already satisfied: importlib-metadata>=4.4; python_version < \"3.10\" in c:\\users\\bengo\\anaconda3\\lib\\site-packages (from markdown>=2.6.8->tensorboard<2.12,>=2.11->tensorflow-intel==2.11.0; platform_system == \"Windows\"->tensorflow>=1.13.1; extra == \"adversarialdebiasing\"->aif360[AdversarialDebiasing]) (6.7.0)\n",
      "Requirement already satisfied: requests-oauthlib>=0.7.0 in c:\\users\\bengo\\anaconda3\\lib\\site-packages (from google-auth-oauthlib<0.5,>=0.4.1->tensorboard<2.12,>=2.11->tensorflow-intel==2.11.0; platform_system == \"Windows\"->tensorflow>=1.13.1; extra == \"adversarialdebiasing\"->aif360[AdversarialDebiasing]) (1.3.1)\n",
      "Requirement already satisfied: pyasn1>=0.1.3 in c:\\users\\bengo\\anaconda3\\lib\\site-packages (from rsa<5,>=3.1.4->google-auth<3,>=1.6.3->tensorboard<2.12,>=2.11->tensorflow-intel==2.11.0; platform_system == \"Windows\"->tensorflow>=1.13.1; extra == \"adversarialdebiasing\"->aif360[AdversarialDebiasing]) (0.5.1)\n",
      "Requirement already satisfied: zipp>=0.5 in c:\\users\\bengo\\anaconda3\\lib\\site-packages (from importlib-metadata>=4.4; python_version < \"3.10\"->markdown>=2.6.8->tensorboard<2.12,>=2.11->tensorflow-intel==2.11.0; platform_system == \"Windows\"->tensorflow>=1.13.1; extra == \"adversarialdebiasing\"->aif360[AdversarialDebiasing]) (0.5.1)\n",
      "Requirement already satisfied: oauthlib>=3.0.0 in c:\\users\\bengo\\anaconda3\\lib\\site-packages (from requests-oauthlib>=0.7.0->google-auth-oauthlib<0.5,>=0.4.1->tensorboard<2.12,>=2.11->tensorflow-intel==2.11.0; platform_system == \"Windows\"->tensorflow>=1.13.1; extra == \"adversarialdebiasing\"->aif360[AdversarialDebiasing]) (3.2.2)\n",
      "Note: you may need to restart the kernel to use updated packages.\n"
     ]
    }
   ],
   "source": [
    "pip install aif360[AdversarialDebiasing]"
   ]
  },
  {
   "cell_type": "markdown",
   "metadata": {},
   "source": [
    "<h2>Exercise 1</h2>"
   ]
  },
  {
   "cell_type": "code",
   "execution_count": 4,
   "metadata": {},
   "outputs": [],
   "source": [
    "%matplotlib inline\n",
    "# Load all necessary packages\n",
    "import sys\n",
    "sys.path.append(\"../\")\n",
    "import numpy as np\n",
    "from tqdm import tqdm"
   ]
  },
  {
   "cell_type": "markdown",
   "metadata": {},
   "source": [
    "<h3>Part 1: When Race is the Protected Attribute and then we test with Sex as the Protected Attribute</h3>"
   ]
  },
  {
   "cell_type": "code",
   "execution_count": 8,
   "metadata": {},
   "outputs": [],
   "source": [
    "from aif360.datasets import BinaryLabelDataset\n",
    "from aif360.datasets import CompasDataset\n",
    "from aif360.algorithms.preprocessing.reweighing import Reweighing\n",
    "from aif360.algorithms.preprocessing.optim_preproc_helpers.data_preproc_functions import load_preproc_data_compas\n",
    "\n",
    "# Load and preprocess the COMPAS dataset\n",
    "dataset = load_preproc_data_compas(['race'])"
   ]
  },
  {
   "cell_type": "code",
   "execution_count": 9,
   "metadata": {
    "scrolled": true
   },
   "outputs": [
    {
     "name": "stdout",
     "output_type": "stream",
     "text": [
      "               instance weights features                                       \\\n",
      "                                         protected attribute                    \n",
      "                                     sex                race age_cat=25 to 45   \n",
      "instance names                                                                  \n",
      "3                           1.0      0.0                 0.0              1.0   \n",
      "4                           1.0      0.0                 0.0              0.0   \n",
      "8                           1.0      0.0                 1.0              1.0   \n",
      "10                          1.0      1.0                 1.0              1.0   \n",
      "14                          1.0      0.0                 1.0              1.0   \n",
      "15                          1.0      0.0                 0.0              0.0   \n",
      "16                          1.0      1.0                 1.0              1.0   \n",
      "18                          1.0      0.0                 0.0              1.0   \n",
      "19                          1.0      1.0                 1.0              0.0   \n",
      "20                          1.0      0.0                 0.0              1.0   \n",
      "22                          1.0      0.0                 0.0              1.0   \n",
      "23                          1.0      0.0                 1.0              1.0   \n",
      "24                          1.0      0.0                 1.0              1.0   \n",
      "25                          1.0      0.0                 0.0              0.0   \n",
      "26                          1.0      0.0                 0.0              0.0   \n",
      "27                          1.0      0.0                 1.0              1.0   \n",
      "28                          1.0      1.0                 1.0              0.0   \n",
      "32                          1.0      0.0                 1.0              1.0   \n",
      "37                          1.0      0.0                 0.0              1.0   \n",
      "39                          1.0      0.0                 0.0              1.0   \n",
      "40                          1.0      0.0                 0.0              1.0   \n",
      "41                          1.0      0.0                 1.0              1.0   \n",
      "42                          1.0      0.0                 0.0              1.0   \n",
      "45                          1.0      0.0                 1.0              0.0   \n",
      "52                          1.0      1.0                 1.0              1.0   \n",
      "53                          1.0      0.0                 1.0              0.0   \n",
      "54                          1.0      0.0                 0.0              1.0   \n",
      "55                          1.0      0.0                 1.0              1.0   \n",
      "56                          1.0      1.0                 0.0              0.0   \n",
      "57                          1.0      0.0                 0.0              0.0   \n",
      "...                         ...      ...                 ...              ...   \n",
      "10954                       1.0      1.0                 1.0              0.0   \n",
      "10955                       1.0      1.0                 1.0              0.0   \n",
      "10956                       1.0      1.0                 1.0              0.0   \n",
      "10957                       1.0      0.0                 0.0              0.0   \n",
      "10958                       1.0      1.0                 1.0              0.0   \n",
      "10960                       1.0      1.0                 0.0              0.0   \n",
      "10962                       1.0      1.0                 1.0              1.0   \n",
      "10963                       1.0      0.0                 1.0              1.0   \n",
      "10964                       1.0      0.0                 0.0              1.0   \n",
      "10965                       1.0      0.0                 1.0              0.0   \n",
      "10966                       1.0      0.0                 1.0              1.0   \n",
      "10967                       1.0      0.0                 0.0              1.0   \n",
      "10969                       1.0      0.0                 0.0              0.0   \n",
      "10972                       1.0      0.0                 1.0              1.0   \n",
      "10975                       1.0      0.0                 0.0              1.0   \n",
      "10976                       1.0      1.0                 1.0              1.0   \n",
      "10977                       1.0      0.0                 0.0              1.0   \n",
      "10979                       1.0      0.0                 0.0              1.0   \n",
      "10980                       1.0      0.0                 0.0              1.0   \n",
      "10981                       1.0      0.0                 0.0              1.0   \n",
      "10982                       1.0      0.0                 1.0              0.0   \n",
      "10984                       1.0      1.0                 0.0              0.0   \n",
      "10985                       1.0      0.0                 0.0              1.0   \n",
      "10989                       1.0      0.0                 0.0              1.0   \n",
      "10992                       1.0      0.0                 1.0              0.0   \n",
      "10994                       1.0      0.0                 0.0              1.0   \n",
      "10995                       1.0      0.0                 0.0              0.0   \n",
      "10996                       1.0      0.0                 0.0              0.0   \n",
      "10997                       1.0      0.0                 0.0              0.0   \n",
      "11000                       1.0      1.0                 0.0              1.0   \n",
      "\n",
      "                                                                            \\\n",
      "                                                                             \n",
      "               age_cat=Greater than 45 age_cat=Less than 25 priors_count=0   \n",
      "instance names                                                               \n",
      "3                                  0.0                  0.0            1.0   \n",
      "4                                  0.0                  1.0            0.0   \n",
      "8                                  0.0                  0.0            0.0   \n",
      "10                                 0.0                  0.0            1.0   \n",
      "14                                 0.0                  0.0            1.0   \n",
      "15                                 0.0                  1.0            0.0   \n",
      "16                                 0.0                  0.0            1.0   \n",
      "18                                 0.0                  0.0            1.0   \n",
      "19                                 1.0                  0.0            0.0   \n",
      "20                                 0.0                  0.0            0.0   \n",
      "22                                 0.0                  0.0            0.0   \n",
      "23                                 0.0                  0.0            0.0   \n",
      "24                                 0.0                  0.0            0.0   \n",
      "25                                 1.0                  0.0            0.0   \n",
      "26                                 0.0                  1.0            0.0   \n",
      "27                                 0.0                  0.0            1.0   \n",
      "28                                 0.0                  1.0            1.0   \n",
      "32                                 0.0                  0.0            0.0   \n",
      "37                                 0.0                  0.0            0.0   \n",
      "39                                 0.0                  0.0            0.0   \n",
      "40                                 0.0                  0.0            1.0   \n",
      "41                                 0.0                  0.0            0.0   \n",
      "42                                 0.0                  0.0            0.0   \n",
      "45                                 1.0                  0.0            1.0   \n",
      "52                                 0.0                  0.0            0.0   \n",
      "53                                 0.0                  1.0            0.0   \n",
      "54                                 0.0                  0.0            0.0   \n",
      "55                                 0.0                  0.0            1.0   \n",
      "56                                 0.0                  1.0            0.0   \n",
      "57                                 1.0                  0.0            0.0   \n",
      "...                                ...                  ...            ...   \n",
      "10954                              0.0                  1.0            0.0   \n",
      "10955                              1.0                  0.0            0.0   \n",
      "10956                              1.0                  0.0            0.0   \n",
      "10957                              1.0                  0.0            0.0   \n",
      "10958                              1.0                  0.0            0.0   \n",
      "10960                              0.0                  1.0            1.0   \n",
      "10962                              0.0                  0.0            0.0   \n",
      "10963                              0.0                  0.0            0.0   \n",
      "10964                              0.0                  0.0            0.0   \n",
      "10965                              1.0                  0.0            0.0   \n",
      "10966                              0.0                  0.0            1.0   \n",
      "10967                              0.0                  0.0            0.0   \n",
      "10969                              0.0                  1.0            0.0   \n",
      "10972                              0.0                  0.0            1.0   \n",
      "10975                              0.0                  0.0            0.0   \n",
      "10976                              0.0                  0.0            0.0   \n",
      "10977                              0.0                  0.0            0.0   \n",
      "10979                              0.0                  0.0            1.0   \n",
      "10980                              0.0                  0.0            0.0   \n",
      "10981                              0.0                  0.0            0.0   \n",
      "10982                              0.0                  1.0            1.0   \n",
      "10984                              0.0                  1.0            1.0   \n",
      "10985                              0.0                  0.0            0.0   \n",
      "10989                              0.0                  0.0            0.0   \n",
      "10992                              0.0                  1.0            1.0   \n",
      "10994                              0.0                  0.0            1.0   \n",
      "10995                              0.0                  1.0            1.0   \n",
      "10996                              0.0                  1.0            1.0   \n",
      "10997                              0.0                  1.0            1.0   \n",
      "11000                              0.0                  0.0            0.0   \n",
      "\n",
      "                                                                               \\\n",
      "                                                                                \n",
      "               priors_count=1 to 3 priors_count=More than 3 c_charge_degree=F   \n",
      "instance names                                                                  \n",
      "3                              0.0                      0.0               1.0   \n",
      "4                              0.0                      1.0               1.0   \n",
      "8                              0.0                      1.0               1.0   \n",
      "10                             0.0                      0.0               0.0   \n",
      "14                             0.0                      0.0               1.0   \n",
      "15                             1.0                      0.0               0.0   \n",
      "16                             0.0                      0.0               0.0   \n",
      "18                             0.0                      0.0               1.0   \n",
      "19                             1.0                      0.0               1.0   \n",
      "20                             0.0                      1.0               1.0   \n",
      "22                             1.0                      0.0               1.0   \n",
      "23                             0.0                      1.0               1.0   \n",
      "24                             0.0                      1.0               1.0   \n",
      "25                             0.0                      1.0               1.0   \n",
      "26                             1.0                      0.0               1.0   \n",
      "27                             0.0                      0.0               0.0   \n",
      "28                             0.0                      0.0               1.0   \n",
      "32                             1.0                      0.0               0.0   \n",
      "37                             0.0                      1.0               1.0   \n",
      "39                             0.0                      1.0               1.0   \n",
      "40                             0.0                      0.0               1.0   \n",
      "41                             0.0                      1.0               1.0   \n",
      "42                             0.0                      1.0               1.0   \n",
      "45                             0.0                      0.0               1.0   \n",
      "52                             0.0                      1.0               0.0   \n",
      "53                             1.0                      0.0               0.0   \n",
      "54                             0.0                      1.0               1.0   \n",
      "55                             0.0                      0.0               0.0   \n",
      "56                             1.0                      0.0               1.0   \n",
      "57                             1.0                      0.0               0.0   \n",
      "...                            ...                      ...               ...   \n",
      "10954                          1.0                      0.0               1.0   \n",
      "10955                          1.0                      0.0               1.0   \n",
      "10956                          1.0                      0.0               0.0   \n",
      "10957                          0.0                      1.0               0.0   \n",
      "10958                          1.0                      0.0               1.0   \n",
      "10960                          0.0                      0.0               1.0   \n",
      "10962                          0.0                      1.0               0.0   \n",
      "10963                          0.0                      1.0               1.0   \n",
      "10964                          0.0                      1.0               1.0   \n",
      "10965                          0.0                      1.0               1.0   \n",
      "10966                          0.0                      0.0               0.0   \n",
      "10967                          1.0                      0.0               0.0   \n",
      "10969                          1.0                      0.0               0.0   \n",
      "10972                          0.0                      0.0               1.0   \n",
      "10975                          1.0                      0.0               1.0   \n",
      "10976                          1.0                      0.0               0.0   \n",
      "10977                          0.0                      1.0               0.0   \n",
      "10979                          0.0                      0.0               0.0   \n",
      "10980                          1.0                      0.0               1.0   \n",
      "10981                          0.0                      1.0               1.0   \n",
      "10982                          0.0                      0.0               1.0   \n",
      "10984                          0.0                      0.0               0.0   \n",
      "10985                          0.0                      1.0               1.0   \n",
      "10989                          1.0                      0.0               0.0   \n",
      "10992                          0.0                      0.0               0.0   \n",
      "10994                          0.0                      0.0               0.0   \n",
      "10995                          0.0                      0.0               1.0   \n",
      "10996                          0.0                      0.0               1.0   \n",
      "10997                          0.0                      0.0               1.0   \n",
      "11000                          1.0                      0.0               0.0   \n",
      "\n",
      "                                 labels  \n",
      "                                         \n",
      "               c_charge_degree=M         \n",
      "instance names                           \n",
      "3                            0.0    1.0  \n",
      "4                            0.0    1.0  \n",
      "8                            0.0    1.0  \n",
      "10                           1.0    0.0  \n",
      "14                           0.0    0.0  \n",
      "15                           1.0    1.0  \n",
      "16                           1.0    0.0  \n",
      "18                           0.0    0.0  \n",
      "19                           0.0    1.0  \n",
      "20                           0.0    1.0  \n",
      "22                           0.0    0.0  \n",
      "23                           0.0    1.0  \n",
      "24                           0.0    1.0  \n",
      "25                           0.0    1.0  \n",
      "26                           0.0    1.0  \n",
      "27                           1.0    1.0  \n",
      "28                           0.0    0.0  \n",
      "32                           1.0    0.0  \n",
      "37                           0.0    1.0  \n",
      "39                           0.0    1.0  \n",
      "40                           0.0    1.0  \n",
      "41                           0.0    1.0  \n",
      "42                           0.0    1.0  \n",
      "45                           0.0    0.0  \n",
      "52                           1.0    1.0  \n",
      "53                           1.0    1.0  \n",
      "54                           0.0    1.0  \n",
      "55                           1.0    0.0  \n",
      "56                           0.0    0.0  \n",
      "57                           1.0    0.0  \n",
      "...                          ...    ...  \n",
      "10954                        0.0    0.0  \n",
      "10955                        0.0    0.0  \n",
      "10956                        1.0    0.0  \n",
      "10957                        1.0    1.0  \n",
      "10958                        0.0    0.0  \n",
      "10960                        0.0    1.0  \n",
      "10962                        1.0    1.0  \n",
      "10963                        0.0    0.0  \n",
      "10964                        0.0    0.0  \n",
      "10965                        0.0    1.0  \n",
      "10966                        1.0    0.0  \n",
      "10967                        1.0    1.0  \n",
      "10969                        1.0    1.0  \n",
      "10972                        0.0    0.0  \n",
      "10975                        0.0    0.0  \n",
      "10976                        1.0    1.0  \n",
      "10977                        1.0    1.0  \n",
      "10979                        1.0    0.0  \n",
      "10980                        0.0    0.0  \n",
      "10981                        0.0    0.0  \n",
      "10982                        0.0    0.0  \n",
      "10984                        1.0    1.0  \n",
      "10985                        0.0    1.0  \n",
      "10989                        1.0    0.0  \n",
      "10992                        1.0    1.0  \n",
      "10994                        1.0    1.0  \n",
      "10995                        0.0    0.0  \n",
      "10996                        0.0    0.0  \n",
      "10997                        0.0    0.0  \n",
      "11000                        1.0    0.0  \n",
      "\n"
     ]
    },
    {
     "name": "stdout",
     "output_type": "stream",
     "text": [
      "[5278 rows x 12 columns]\n"
     ]
    }
   ],
   "source": [
    "print(dataset)"
   ]
  },
  {
   "cell_type": "code",
   "execution_count": 10,
   "metadata": {},
   "outputs": [],
   "source": [
    "privileged_groups = [{'race': 1}]\n",
    "unprivileged_groups = [{'race': 0}]"
   ]
  },
  {
   "cell_type": "code",
   "execution_count": 11,
   "metadata": {},
   "outputs": [
    {
     "data": {
      "text/markdown": [
       "#### Training Dataset shape"
      ],
      "text/plain": [
       "<IPython.core.display.Markdown object>"
      ]
     },
     "metadata": {},
     "output_type": "display_data"
    },
    {
     "name": "stdout",
     "output_type": "stream",
     "text": [
      "(5278, 10)\n"
     ]
    },
    {
     "data": {
      "text/markdown": [
       "#### Favorable and unfavorable labels"
      ],
      "text/plain": [
       "<IPython.core.display.Markdown object>"
      ]
     },
     "metadata": {},
     "output_type": "display_data"
    },
    {
     "name": "stdout",
     "output_type": "stream",
     "text": [
      "0.0 1.0\n"
     ]
    },
    {
     "data": {
      "text/markdown": [
       "#### Protected attribute names"
      ],
      "text/plain": [
       "<IPython.core.display.Markdown object>"
      ]
     },
     "metadata": {},
     "output_type": "display_data"
    },
    {
     "name": "stdout",
     "output_type": "stream",
     "text": [
      "['race']\n"
     ]
    },
    {
     "data": {
      "text/markdown": [
       "#### Privileged and unprivileged protected attribute values"
      ],
      "text/plain": [
       "<IPython.core.display.Markdown object>"
      ]
     },
     "metadata": {},
     "output_type": "display_data"
    },
    {
     "name": "stdout",
     "output_type": "stream",
     "text": [
      "[array([1.])] [array([0.])]\n"
     ]
    },
    {
     "data": {
      "text/markdown": [
       "#### Dataset feature names"
      ],
      "text/plain": [
       "<IPython.core.display.Markdown object>"
      ]
     },
     "metadata": {},
     "output_type": "display_data"
    },
    {
     "name": "stdout",
     "output_type": "stream",
     "text": [
      "['sex', 'race', 'age_cat=25 to 45', 'age_cat=Greater than 45', 'age_cat=Less than 25', 'priors_count=0', 'priors_count=1 to 3', 'priors_count=More than 3', 'c_charge_degree=F', 'c_charge_degree=M']\n"
     ]
    }
   ],
   "source": [
    "from IPython.display import Markdown, display\n",
    "# print out some labels, names, etc.\n",
    "display(Markdown(\"#### Training Dataset shape\"))\n",
    "print(dataset.features.shape)\n",
    "display(Markdown(\"#### Favorable and unfavorable labels\"))\n",
    "print(dataset.favorable_label, dataset.unfavorable_label)\n",
    "display(Markdown(\"#### Protected attribute names\"))\n",
    "print(dataset.protected_attribute_names)\n",
    "display(Markdown(\"#### Privileged and unprivileged protected attribute values\"))\n",
    "print(dataset.privileged_protected_attributes, \n",
    "      dataset.unprivileged_protected_attributes)\n",
    "display(Markdown(\"#### Dataset feature names\"))\n",
    "print(dataset.feature_names)"
   ]
  },
  {
   "cell_type": "markdown",
   "metadata": {},
   "source": [
    "## Training/Test data"
   ]
  },
  {
   "cell_type": "code",
   "execution_count": 12,
   "metadata": {},
   "outputs": [],
   "source": [
    "# Get the dataset and split into train and test\n",
    "dataset_orig_train, dataset_orig_vt = dataset.split([0.7], shuffle=True)\n",
    "dataset_orig_valid, dataset_orig_test = dataset_orig_vt.split([0.5], shuffle=True)"
   ]
  },
  {
   "cell_type": "markdown",
   "metadata": {},
   "source": [
    "#### Metric for original training data"
   ]
  },
  {
   "cell_type": "code",
   "execution_count": 13,
   "metadata": {},
   "outputs": [
    {
     "data": {
      "text/markdown": [
       "#### Original training dataset"
      ],
      "text/plain": [
       "<IPython.core.display.Markdown object>"
      ]
     },
     "metadata": {},
     "output_type": "display_data"
    },
    {
     "name": "stdout",
     "output_type": "stream",
     "text": [
      "Difference in mean outcomes between unprivileged and privileged groups = -0.120253\n"
     ]
    }
   ],
   "source": [
    "from aif360.metrics import BinaryLabelDatasetMetric\n",
    "# Metric for the original dataset\n",
    "metric_orig_train = BinaryLabelDatasetMetric(dataset_orig_train, \n",
    "                                             unprivileged_groups=unprivileged_groups,\n",
    "                                             privileged_groups=privileged_groups)\n",
    "display(Markdown(\"#### Original training dataset\"))\n",
    "print(\"Difference in mean outcomes between unprivileged and privileged groups = %f\" % metric_orig_train.mean_difference())"
   ]
  },
  {
   "cell_type": "markdown",
   "metadata": {},
   "source": [
    "#### Train with and transform the original training data"
   ]
  },
  {
   "cell_type": "code",
   "execution_count": 14,
   "metadata": {},
   "outputs": [],
   "source": [
    "RW = Reweighing(unprivileged_groups=unprivileged_groups,\n",
    "               privileged_groups=privileged_groups)\n",
    "RW.fit(dataset_orig_train)\n",
    "dataset_transf_train = RW.transform(dataset_orig_train)"
   ]
  },
  {
   "cell_type": "code",
   "execution_count": 15,
   "metadata": {},
   "outputs": [],
   "source": [
    "### Testing \n",
    "assert np.abs(dataset_transf_train.instance_weights.sum()-dataset_orig_train.instance_weights.sum())<1e-6"
   ]
  },
  {
   "cell_type": "markdown",
   "metadata": {},
   "source": [
    "#### Metric with the transformed training data"
   ]
  },
  {
   "cell_type": "code",
   "execution_count": 16,
   "metadata": {},
   "outputs": [
    {
     "data": {
      "text/markdown": [
       "#### Transformed training dataset"
      ],
      "text/plain": [
       "<IPython.core.display.Markdown object>"
      ]
     },
     "metadata": {},
     "output_type": "display_data"
    },
    {
     "name": "stdout",
     "output_type": "stream",
     "text": [
      "Difference in mean outcomes between unprivileged and privileged groups = 0.000000\n"
     ]
    }
   ],
   "source": [
    "metric_transf_train = BinaryLabelDatasetMetric(dataset_transf_train, \n",
    "                                         unprivileged_groups=unprivileged_groups,\n",
    "                                         privileged_groups=privileged_groups)\n",
    "display(Markdown(\"#### Transformed training dataset\"))\n",
    "print(\"Difference in mean outcomes between unprivileged and privileged groups = %f\" % metric_transf_train.mean_difference())"
   ]
  },
  {
   "cell_type": "markdown",
   "metadata": {},
   "source": [
    "### Change sex to be the protected attribute"
   ]
  },
  {
   "cell_type": "code",
   "execution_count": 17,
   "metadata": {},
   "outputs": [],
   "source": [
    "dataset_orig_train.protected_attribute_names=(['sex'])\n",
    "dataset_orig_valid.protected_attribute_names=(['sex'])\n",
    "dataset_orig_test.protected_attribute_names=(['sex'])"
   ]
  },
  {
   "cell_type": "code",
   "execution_count": 18,
   "metadata": {},
   "outputs": [
    {
     "name": "stdout",
     "output_type": "stream",
     "text": [
      "['sex']\n"
     ]
    }
   ],
   "source": [
    "print(dataset_orig_train.protected_attribute_names)"
   ]
  },
  {
   "cell_type": "code",
   "execution_count": 19,
   "metadata": {},
   "outputs": [],
   "source": [
    "privileged_groups = [{'sex': 1}]\n",
    "unprivileged_groups = [{'sex': 0}]"
   ]
  },
  {
   "cell_type": "markdown",
   "metadata": {},
   "source": [
    "<h3>Train Logistic Regression Model</h3>"
   ]
  },
  {
   "cell_type": "code",
   "execution_count": 20,
   "metadata": {},
   "outputs": [],
   "source": [
    "from sklearn.linear_model import LogisticRegression\n",
    "from sklearn.preprocessing import StandardScaler\n",
    "from sklearn.metrics import accuracy_score"
   ]
  },
  {
   "cell_type": "code",
   "execution_count": 21,
   "metadata": {},
   "outputs": [],
   "source": [
    "# Logistic regression classifier and predictions\n",
    "scale_orig = StandardScaler()\n",
    "X_train = scale_orig.fit_transform(dataset_orig_train.features)\n",
    "y_train = dataset_orig_train.labels.ravel()\n",
    "w_train = dataset_orig_train.instance_weights.ravel()\n",
    "\n",
    "lmod = LogisticRegression()\n",
    "lmod.fit(X_train, y_train, \n",
    "         sample_weight=dataset_orig_train.instance_weights)\n",
    "y_train_pred = lmod.predict(X_train)\n",
    "\n",
    "# positive class index\n",
    "pos_ind = np.where(lmod.classes_ == dataset_orig_train.favorable_label)[0][0]\n",
    "\n",
    "dataset_orig_train_pred = dataset_orig_train.copy()\n",
    "dataset_orig_train_pred.labels = y_train_pred"
   ]
  },
  {
   "cell_type": "markdown",
   "metadata": {},
   "source": [
    "#### Obtain scores for original validation and test sets"
   ]
  },
  {
   "cell_type": "code",
   "execution_count": 22,
   "metadata": {},
   "outputs": [
    {
     "name": "stdout",
     "output_type": "stream",
     "text": [
      "[[0.1632166 ]\n",
      " [0.64301032]\n",
      " [0.33215512]\n",
      " [0.45062348]\n",
      " [0.50629533]\n",
      " [0.37148936]\n",
      " [0.78786274]\n",
      " [0.51228645]\n",
      " [0.33215512]\n",
      " [0.84689611]]\n"
     ]
    }
   ],
   "source": [
    "dataset_orig_valid_pred = dataset_orig_valid.copy(deepcopy=True)\n",
    "X_valid = scale_orig.transform(dataset_orig_valid_pred.features)\n",
    "y_valid = dataset_orig_valid_pred.labels\n",
    "dataset_orig_valid_pred.scores = lmod.predict_proba(X_valid)[:,pos_ind].reshape(-1,1)\n",
    "print(dataset_orig_valid_pred.scores[:10])\n",
    "\n",
    "dataset_orig_test_pred = dataset_orig_test.copy(deepcopy=True)\n",
    "X_test = scale_orig.transform(dataset_orig_test_pred.features)\n",
    "y_test = dataset_orig_test_pred.labels\n",
    "dataset_orig_test_pred.scores = lmod.predict_proba(X_test)[:,pos_ind].reshape(-1,1)"
   ]
  },
  {
   "cell_type": "markdown",
   "metadata": {},
   "source": [
    "### Find the optimal classification threshold from the validation set"
   ]
  },
  {
   "cell_type": "code",
   "execution_count": 23,
   "metadata": {},
   "outputs": [],
   "source": [
    "from aif360.metrics import ClassificationMetric"
   ]
  },
  {
   "cell_type": "code",
   "execution_count": 24,
   "metadata": {},
   "outputs": [
    {
     "name": "stdout",
     "output_type": "stream",
     "text": [
      "Best balanced accuracy (no reweighing) = 0.6815\n",
      "Optimal classification threshold (no reweighing) = 0.4852\n"
     ]
    }
   ],
   "source": [
    "num_thresh = 100\n",
    "ba_arr = np.zeros(num_thresh)\n",
    "class_thresh_arr = np.linspace(0.01, 0.99, num_thresh)\n",
    "for idx, class_thresh in enumerate(class_thresh_arr):\n",
    "    \n",
    "    fav_inds = dataset_orig_valid_pred.scores > class_thresh\n",
    "    dataset_orig_valid_pred.labels[fav_inds] = dataset_orig_valid_pred.favorable_label\n",
    "    dataset_orig_valid_pred.labels[~fav_inds] = dataset_orig_valid_pred.unfavorable_label\n",
    "    \n",
    "    classified_metric_orig_valid = ClassificationMetric(dataset_orig_valid,\n",
    "                                             dataset_orig_valid_pred, \n",
    "                                             unprivileged_groups=unprivileged_groups,\n",
    "                                             privileged_groups=privileged_groups)\n",
    "    \n",
    "    ba_arr[idx] = 0.5*(classified_metric_orig_valid.true_positive_rate()\\\n",
    "                       +classified_metric_orig_valid.true_negative_rate())\n",
    "\n",
    "best_ind = np.where(ba_arr == np.max(ba_arr))[0][0]\n",
    "best_class_thresh = class_thresh_arr[best_ind]\n",
    "\n",
    "print(\"Best balanced accuracy (no reweighing) = %.4f\" % np.max(ba_arr))\n",
    "print(\"Optimal classification threshold (no reweighing) = %.4f\" % best_class_thresh)"
   ]
  },
  {
   "cell_type": "markdown",
   "metadata": {},
   "source": [
    "### Predictions from the original test set at the optimal classification threshold"
   ]
  },
  {
   "cell_type": "code",
   "execution_count": 25,
   "metadata": {},
   "outputs": [],
   "source": [
    "# Metrics function\n",
    "from collections import OrderedDict\n",
    "from aif360.metrics import ClassificationMetric\n",
    "\n",
    "def compute_metrics(dataset_true, dataset_pred, \n",
    "                    unprivileged_groups, privileged_groups,\n",
    "                    disp = True):\n",
    "    \"\"\" Compute the key metrics \"\"\"\n",
    "    classified_metric_pred = ClassificationMetric(dataset_true,\n",
    "                                                 dataset_pred, \n",
    "                                                 unprivileged_groups=unprivileged_groups,\n",
    "                                                 privileged_groups=privileged_groups)\n",
    "    metrics = OrderedDict()\n",
    "    metrics[\"Balanced accuracy\"] = 0.5*(classified_metric_pred.true_positive_rate()+\n",
    "                                             classified_metric_pred.true_negative_rate())\n",
    "    metrics[\"Statistical parity difference\"] = classified_metric_pred.statistical_parity_difference()\n",
    "    metrics[\"Disparate impact\"] = classified_metric_pred.disparate_impact()\n",
    "    metrics[\"Average odds difference\"] = classified_metric_pred.average_odds_difference()\n",
    "    metrics[\"Equal opportunity difference\"] = classified_metric_pred.equal_opportunity_difference()\n",
    "    metrics[\"Theil index\"] = classified_metric_pred.theil_index()\n",
    "    \n",
    "    if disp:\n",
    "        for k in metrics:\n",
    "            print(\"%s = %.4f\" % (k, metrics[k]))\n",
    "    \n",
    "    return metrics"
   ]
  },
  {
   "cell_type": "code",
   "execution_count": 26,
   "metadata": {},
   "outputs": [
    {
     "data": {
      "text/markdown": [
       "#### Predictions from original testing data"
      ],
      "text/plain": [
       "<IPython.core.display.Markdown object>"
      ]
     },
     "metadata": {},
     "output_type": "display_data"
    },
    {
     "name": "stdout",
     "output_type": "stream",
     "text": [
      "Classification threshold used = 0.4852\n"
     ]
    },
    {
     "name": "stderr",
     "output_type": "stream",
     "text": [
      " 47%|█████████████████████████████████████▌                                          | 47/100 [00:00<00:00, 431.05it/s]"
     ]
    },
    {
     "name": "stdout",
     "output_type": "stream",
     "text": [
      "Balanced accuracy = 0.6660\n",
      "Statistical parity difference = -0.2619\n",
      "Disparate impact = 0.6543\n",
      "Average odds difference = -0.2204\n",
      "Equal opportunity difference = -0.1893\n",
      "Theil index = 0.1848\n"
     ]
    },
    {
     "name": "stderr",
     "output_type": "stream",
     "text": [
      " 76%|████████████████████████████████████████████████████████████▊                   | 76/100 [00:00<00:00, 373.31it/s]C:\\Users\\bengo\\Anaconda3\\lib\\site-packages\\aif360\\metrics\\dataset_metric.py:82: RuntimeWarning: invalid value encountered in double_scalars\n",
      "  return metric_fun(privileged=False) / metric_fun(privileged=True)\n",
      "100%|███████████████████████████████████████████████████████████████████████████████| 100/100 [00:00<00:00, 357.14it/s]\n"
     ]
    }
   ],
   "source": [
    "display(Markdown(\"#### Predictions from original testing data\"))\n",
    "bal_acc_arr_orig = []\n",
    "disp_imp_arr_orig = []\n",
    "avg_odds_diff_arr_orig = []\n",
    "\n",
    "print(\"Classification threshold used = %.4f\" % best_class_thresh)\n",
    "for thresh in tqdm(class_thresh_arr):\n",
    "    \n",
    "    if thresh == best_class_thresh:\n",
    "        disp = True\n",
    "    else:\n",
    "        disp = False\n",
    "    \n",
    "    fav_inds = dataset_orig_test_pred.scores > thresh\n",
    "    dataset_orig_test_pred.labels[fav_inds] = dataset_orig_test_pred.favorable_label\n",
    "    dataset_orig_test_pred.labels[~fav_inds] = dataset_orig_test_pred.unfavorable_label\n",
    "    \n",
    "    metric_test_bef = compute_metrics(dataset_orig_test, dataset_orig_test_pred, \n",
    "                                      unprivileged_groups, privileged_groups,\n",
    "                                      disp = disp)\n",
    "\n",
    "    bal_acc_arr_orig.append(metric_test_bef[\"Balanced accuracy\"])\n",
    "    avg_odds_diff_arr_orig.append(metric_test_bef[\"Average odds difference\"])\n",
    "    disp_imp_arr_orig.append(metric_test_bef[\"Disparate impact\"])"
   ]
  },
  {
   "cell_type": "markdown",
   "metadata": {},
   "source": [
    "<h4>Disparate Impact (DI)</h4> This metric is a ratio of the rate of favorable outcomes for the unprivileged group to the rate of favorable outcomes for the privileged group. A value of 1 indicates perfect fairness. Values less than 1 indicate less favorable outcomes for the unprivileged group, and values greater than 1 indicate less favorable outcomes for the privileged group.\n",
    "<h4>Statistical Parity Difference (SPD)</h4> This is the difference in the rate of favorable outcomes received by the unprivileged group to the privileged group. A value of 0 indicates perfect fairness. Negative values indicate bias against the unprivileged group, and positive values indicate bias in favor of the unprivileged group."
   ]
  },
  {
   "cell_type": "markdown",
   "metadata": {},
   "source": [
    "As such, we can see that the DI is less than 1, indicating less favorable outcomes for the unprivileged group. In this case, that means less favorable outcomes for males, when we run the model based on race beforehand."
   ]
  },
  {
   "cell_type": "markdown",
   "metadata": {},
   "source": [
    "We can also look at the SPD. It is negative, which indicates bias against the unprivileged group. This means that the male population is experiencing bias when we run the model based on race beforehand."
   ]
  },
  {
   "cell_type": "markdown",
   "metadata": {},
   "source": [
    "## Imagery of the model and data (optional) [only done for the first one]"
   ]
  },
  {
   "cell_type": "code",
   "execution_count": 28,
   "metadata": {},
   "outputs": [],
   "source": [
    "import matplotlib.pyplot as plt"
   ]
  },
  {
   "cell_type": "code",
   "execution_count": 29,
   "metadata": {},
   "outputs": [
    {
     "data": {
      "image/png": "[encoded data removed]",
      "text/plain": [
       "<Figure size 720x504 with 2 Axes>"
      ]
     },
     "metadata": {
      "needs_background": "light"
     },
     "output_type": "display_data"
    }
   ],
   "source": [
    "fig, ax1 = plt.subplots(figsize=(10,7))\n",
    "ax1.plot(class_thresh_arr, bal_acc_arr_orig)\n",
    "ax1.set_xlabel('Classification Thresholds', fontsize=16, fontweight='bold')\n",
    "ax1.set_ylabel('Balanced Accuracy', color='b', fontsize=16, fontweight='bold')\n",
    "ax1.xaxis.set_tick_params(labelsize=14)\n",
    "ax1.yaxis.set_tick_params(labelsize=14)\n",
    "\n",
    "\n",
    "ax2 = ax1.twinx()\n",
    "ax2.plot(class_thresh_arr, np.abs(1.0-np.array(disp_imp_arr_orig)), color='r')\n",
    "ax2.set_ylabel('abs(1-disparate impact)', color='r', fontsize=16, fontweight='bold')\n",
    "ax2.axvline(best_class_thresh, color='k', linestyle=':')\n",
    "ax2.yaxis.set_tick_params(labelsize=14)\n",
    "ax2.grid(True)"
   ]
  },
  {
   "cell_type": "markdown",
   "metadata": {},
   "source": [
    "```abs(1-disparate impact)``` must be small (close to 0) for classifier predictions to be fair.\n",
    "\n",
    "However, for a classifier trained with original training data, at the best classification rate, this is quite high. This implies unfairness."
   ]
  },
  {
   "cell_type": "code",
   "execution_count": 30,
   "metadata": {},
   "outputs": [
    {
     "data": {
      "image/png": "[encoded data removed]",
      "text/plain": [
       "<Figure size 720x504 with 2 Axes>"
      ]
     },
     "metadata": {
      "needs_background": "light"
     },
     "output_type": "display_data"
    }
   ],
   "source": [
    "fig, ax1 = plt.subplots(figsize=(10,7))\n",
    "ax1.plot(class_thresh_arr, bal_acc_arr_orig)\n",
    "ax1.set_xlabel('Classification Thresholds', fontsize=16, fontweight='bold')\n",
    "ax1.set_ylabel('Balanced Accuracy', color='b', fontsize=16, fontweight='bold')\n",
    "ax1.xaxis.set_tick_params(labelsize=14)\n",
    "ax1.yaxis.set_tick_params(labelsize=14)\n",
    "\n",
    "\n",
    "ax2 = ax1.twinx()\n",
    "ax2.plot(class_thresh_arr, avg_odds_diff_arr_orig, color='r')\n",
    "ax2.set_ylabel('avg. odds diff.', color='r', fontsize=16, fontweight='bold')\n",
    "ax2.axvline(best_class_thresh, color='k', linestyle=':')\n",
    "ax2.yaxis.set_tick_params(labelsize=14)\n",
    "ax2.grid(True)"
   ]
  },
  {
   "cell_type": "markdown",
   "metadata": {},
   "source": [
    "```average odds difference = 0.5((FPR_unpriv-FPR_priv)+(TPR_unpriv-TPR_priv))``` must be close to zero for the classifier to be fair.\n",
    "\n",
    "However, for a classifier trained with original training data, at the best classification rate, this is quite high. This implies unfairness."
   ]
  },
  {
   "cell_type": "markdown",
   "metadata": {},
   "source": [
    "### Train classifier on transformed data"
   ]
  },
  {
   "cell_type": "code",
   "execution_count": 31,
   "metadata": {},
   "outputs": [],
   "source": [
    "scale_transf = StandardScaler()\n",
    "X_train = scale_transf.fit_transform(dataset_transf_train.features)\n",
    "y_train = dataset_transf_train.labels.ravel()\n",
    "\n",
    "lmod = LogisticRegression()\n",
    "lmod.fit(X_train, y_train,\n",
    "        sample_weight=dataset_transf_train.instance_weights)\n",
    "y_train_pred = lmod.predict(X_train)"
   ]
  },
  {
   "cell_type": "markdown",
   "metadata": {},
   "source": [
    "#### Obtain scores for transformed test set"
   ]
  },
  {
   "cell_type": "code",
   "execution_count": 32,
   "metadata": {},
   "outputs": [],
   "source": [
    "dataset_transf_test_pred = dataset_orig_test.copy(deepcopy=True)\n",
    "X_test = scale_transf.fit_transform(dataset_transf_test_pred.features)\n",
    "y_test = dataset_transf_test_pred.labels\n",
    "dataset_transf_test_pred.scores = lmod.predict_proba(X_test)[:,pos_ind].reshape(-1,1)"
   ]
  },
  {
   "cell_type": "markdown",
   "metadata": {},
   "source": [
    "### Predictions from the transformed test set at the optimal classification threshold"
   ]
  },
  {
   "cell_type": "code",
   "execution_count": 33,
   "metadata": {},
   "outputs": [
    {
     "data": {
      "text/markdown": [
       "#### Predictions from transformed testing data"
      ],
      "text/plain": [
       "<IPython.core.display.Markdown object>"
      ]
     },
     "metadata": {},
     "output_type": "display_data"
    },
    {
     "name": "stdout",
     "output_type": "stream",
     "text": [
      "Classification threshold used = 0.4852\n"
     ]
    },
    {
     "name": "stderr",
     "output_type": "stream",
     "text": [
      " 26%|████████████████████▊                                                           | 26/100 [00:00<00:00, 245.28it/s]"
     ]
    },
    {
     "name": "stdout",
     "output_type": "stream",
     "text": [
      "Balanced accuracy = 0.6544\n",
      "Statistical parity difference = -0.1022\n",
      "Disparate impact = 0.8339\n",
      "Average odds difference = -0.0600\n",
      "Equal opportunity difference = -0.0359\n",
      "Theil index = 0.2202\n"
     ]
    },
    {
     "name": "stderr",
     "output_type": "stream",
     "text": [
      " 78%|██████████████████████████████████████████████████████████████▍                 | 78/100 [00:00<00:00, 244.89it/s]C:\\Users\\bengo\\Anaconda3\\lib\\site-packages\\aif360\\metrics\\dataset_metric.py:82: RuntimeWarning: divide by zero encountered in double_scalars\n",
      "  return metric_fun(privileged=False) / metric_fun(privileged=True)\n",
      "C:\\Users\\bengo\\Anaconda3\\lib\\site-packages\\aif360\\metrics\\dataset_metric.py:82: RuntimeWarning: invalid value encountered in double_scalars\n",
      "  return metric_fun(privileged=False) / metric_fun(privileged=True)\n",
      "100%|███████████████████████████████████████████████████████████████████████████████| 100/100 [00:00<00:00, 259.07it/s]\n"
     ]
    }
   ],
   "source": [
    "display(Markdown(\"#### Predictions from transformed testing data\"))\n",
    "bal_acc_arr_transf = []\n",
    "disp_imp_arr_transf = []\n",
    "avg_odds_diff_arr_transf = []\n",
    "\n",
    "print(\"Classification threshold used = %.4f\" % best_class_thresh)\n",
    "for thresh in tqdm(class_thresh_arr):\n",
    "    \n",
    "    if thresh == best_class_thresh:\n",
    "        disp = True\n",
    "    else:\n",
    "        disp = False\n",
    "    \n",
    "    fav_inds = dataset_transf_test_pred.scores > thresh\n",
    "    dataset_transf_test_pred.labels[fav_inds] = dataset_transf_test_pred.favorable_label\n",
    "    dataset_transf_test_pred.labels[~fav_inds] = dataset_transf_test_pred.unfavorable_label\n",
    "    \n",
    "    metric_test_aft = compute_metrics(dataset_orig_test, dataset_transf_test_pred, \n",
    "                                      unprivileged_groups, privileged_groups,\n",
    "                                      disp = disp)\n",
    "\n",
    "    bal_acc_arr_transf.append(metric_test_aft[\"Balanced accuracy\"])\n",
    "    avg_odds_diff_arr_transf.append(metric_test_aft[\"Average odds difference\"])\n",
    "    disp_imp_arr_transf.append(metric_test_aft[\"Disparate impact\"])"
   ]
  },
  {
   "cell_type": "markdown",
   "metadata": {},
   "source": [
    "The DI is closer to 1 now, which implies more fairness, but there is still some unfairness for the unprivileged group. The SPD is closer to 0, which implies less bias, but there is still some bias against the unprivileged group."
   ]
  },
  {
   "cell_type": "markdown",
   "metadata": {},
   "source": [
    "#### Display results for all thresholds"
   ]
  },
  {
   "cell_type": "code",
   "execution_count": 34,
   "metadata": {},
   "outputs": [
    {
     "data": {
      "image/png": "[encoded data removed]",
      "text/plain": [
       "<Figure size 720x504 with 2 Axes>"
      ]
     },
     "metadata": {
      "needs_background": "light"
     },
     "output_type": "display_data"
    }
   ],
   "source": [
    "fig, ax1 = plt.subplots(figsize=(10,7))\n",
    "ax1.plot(class_thresh_arr, bal_acc_arr_transf)\n",
    "ax1.set_xlabel('Classification Thresholds', fontsize=16, fontweight='bold')\n",
    "ax1.set_ylabel('Balanced Accuracy', color='b', fontsize=16, fontweight='bold')\n",
    "ax1.xaxis.set_tick_params(labelsize=14)\n",
    "ax1.yaxis.set_tick_params(labelsize=14)\n",
    "\n",
    "\n",
    "ax2 = ax1.twinx()\n",
    "ax2.plot(class_thresh_arr, np.abs(1.0-np.array(disp_imp_arr_transf)), color='r')\n",
    "ax2.set_ylabel('abs(1-disparate impact)', color='r', fontsize=16, fontweight='bold')\n",
    "ax2.axvline(best_class_thresh, color='k', linestyle=':')\n",
    "ax2.yaxis.set_tick_params(labelsize=14)\n",
    "ax2.grid(True)"
   ]
  },
  {
   "cell_type": "markdown",
   "metadata": {},
   "source": [
    "```abs(1-disparate impact)``` must be small (close to 0) for classifier predictions to be fair.\n",
    "\n",
    "For a classifier trained with reweighted training data, at the best classification rate, this is closer to the case.\n",
    "This implies more fairness than previously."
   ]
  },
  {
   "cell_type": "code",
   "execution_count": 35,
   "metadata": {},
   "outputs": [
    {
     "data": {
      "image/png": "[encoded data removed]",
      "text/plain": [
       "<Figure size 720x504 with 2 Axes>"
      ]
     },
     "metadata": {
      "needs_background": "light"
     },
     "output_type": "display_data"
    }
   ],
   "source": [
    "fig, ax1 = plt.subplots(figsize=(10,7))\n",
    "ax1.plot(class_thresh_arr, bal_acc_arr_transf)\n",
    "ax1.set_xlabel('Classification Thresholds', fontsize=16, fontweight='bold')\n",
    "ax1.set_ylabel('Balanced Accuracy', color='b', fontsize=16, fontweight='bold')\n",
    "ax1.xaxis.set_tick_params(labelsize=14)\n",
    "ax1.yaxis.set_tick_params(labelsize=14)\n",
    "\n",
    "\n",
    "ax2 = ax1.twinx()\n",
    "ax2.plot(class_thresh_arr, avg_odds_diff_arr_transf, color='r')\n",
    "ax2.set_ylabel('avg. odds diff.', color='r', fontsize=16, fontweight='bold')\n",
    "ax2.axvline(best_class_thresh, color='k', linestyle=':')\n",
    "ax2.yaxis.set_tick_params(labelsize=14)\n",
    "ax2.grid(True)"
   ]
  },
  {
   "cell_type": "markdown",
   "metadata": {},
   "source": [
    "```average odds difference = 0.5((FPR_unpriv-FPR_priv)+(TPR_unpriv-TPR_priv))``` must be close to zero for the classifier to be fair.\n",
    "\n",
    "For a classifier trained with reweighted training data, at the best classification rate, this is closer to the case.\n",
    "This implies more fairness than previously seen."
   ]
  },
  {
   "cell_type": "markdown",
   "metadata": {},
   "source": [
    "<h3>Part 2: When Sex is the Protected Attribute and then we test with Race as the Protected Attribute</h3>"
   ]
  },
  {
   "cell_type": "code",
   "execution_count": 36,
   "metadata": {},
   "outputs": [],
   "source": [
    "# Load and preprocess the COMPAS dataset\n",
    "dataset = load_preproc_data_compas(['sex'])"
   ]
  },
  {
   "cell_type": "code",
   "execution_count": 37,
   "metadata": {},
   "outputs": [],
   "source": [
    "privileged_groups = [{'sex': 1}]\n",
    "unprivileged_groups = [{'sex': 0}]"
   ]
  },
  {
   "cell_type": "markdown",
   "metadata": {},
   "source": [
    "## Training/Test data"
   ]
  },
  {
   "cell_type": "code",
   "execution_count": 38,
   "metadata": {},
   "outputs": [],
   "source": [
    "# Get the dataset and split into train and test\n",
    "dataset_orig_train, dataset_orig_vt = dataset.split([0.7], shuffle=True)\n",
    "dataset_orig_valid, dataset_orig_test = dataset_orig_vt.split([0.5], shuffle=True)"
   ]
  },
  {
   "cell_type": "markdown",
   "metadata": {},
   "source": [
    "#### Metric for original training data"
   ]
  },
  {
   "cell_type": "code",
   "execution_count": 39,
   "metadata": {},
   "outputs": [
    {
     "data": {
      "text/markdown": [
       "#### Original training dataset"
      ],
      "text/plain": [
       "<IPython.core.display.Markdown object>"
      ]
     },
     "metadata": {},
     "output_type": "display_data"
    },
    {
     "name": "stdout",
     "output_type": "stream",
     "text": [
      "Difference in mean outcomes between unprivileged and privileged groups = -0.143121\n"
     ]
    }
   ],
   "source": [
    "# Metric for the original dataset\n",
    "metric_orig_train = BinaryLabelDatasetMetric(dataset_orig_train, \n",
    "                                             unprivileged_groups=unprivileged_groups,\n",
    "                                             privileged_groups=privileged_groups)\n",
    "display(Markdown(\"#### Original training dataset\"))\n",
    "print(\"Difference in mean outcomes between unprivileged and privileged groups = %f\" % metric_orig_train.mean_difference())"
   ]
  },
  {
   "cell_type": "markdown",
   "metadata": {},
   "source": [
    "#### Train with and transform the original training data"
   ]
  },
  {
   "cell_type": "code",
   "execution_count": 40,
   "metadata": {},
   "outputs": [],
   "source": [
    "RW = Reweighing(unprivileged_groups=unprivileged_groups,\n",
    "               privileged_groups=privileged_groups)\n",
    "RW.fit(dataset_orig_train)\n",
    "dataset_transf_train = RW.transform(dataset_orig_train)"
   ]
  },
  {
   "cell_type": "code",
   "execution_count": 41,
   "metadata": {},
   "outputs": [],
   "source": [
    "### Testing \n",
    "assert np.abs(dataset_transf_train.instance_weights.sum()-dataset_orig_train.instance_weights.sum())<1e-6"
   ]
  },
  {
   "cell_type": "markdown",
   "metadata": {},
   "source": [
    "#### Metric with the transformed training data"
   ]
  },
  {
   "cell_type": "code",
   "execution_count": 42,
   "metadata": {},
   "outputs": [
    {
     "data": {
      "text/markdown": [
       "#### Transformed training dataset"
      ],
      "text/plain": [
       "<IPython.core.display.Markdown object>"
      ]
     },
     "metadata": {},
     "output_type": "display_data"
    },
    {
     "name": "stdout",
     "output_type": "stream",
     "text": [
      "Difference in mean outcomes between unprivileged and privileged groups = -0.000000\n"
     ]
    }
   ],
   "source": [
    "metric_transf_train = BinaryLabelDatasetMetric(dataset_transf_train, \n",
    "                                         unprivileged_groups=unprivileged_groups,\n",
    "                                         privileged_groups=privileged_groups)\n",
    "display(Markdown(\"#### Transformed training dataset\"))\n",
    "print(\"Difference in mean outcomes between unprivileged and privileged groups = %f\" % metric_transf_train.mean_difference())"
   ]
  },
  {
   "cell_type": "markdown",
   "metadata": {},
   "source": [
    "### Change race to be the protected attribute"
   ]
  },
  {
   "cell_type": "code",
   "execution_count": 43,
   "metadata": {},
   "outputs": [],
   "source": [
    "dataset_orig_train.protected_attribute_names=(['race'])\n",
    "dataset_orig_valid.protected_attribute_names=(['race'])\n",
    "dataset_orig_test.protected_attribute_names=(['race'])"
   ]
  },
  {
   "cell_type": "code",
   "execution_count": 44,
   "metadata": {},
   "outputs": [
    {
     "name": "stdout",
     "output_type": "stream",
     "text": [
      "['race']\n"
     ]
    }
   ],
   "source": [
    "print(dataset_orig_train.protected_attribute_names)"
   ]
  },
  {
   "cell_type": "code",
   "execution_count": 45,
   "metadata": {},
   "outputs": [],
   "source": [
    "privileged_groups = [{'race': 1}]\n",
    "unprivileged_groups = [{'race': 0}]"
   ]
  },
  {
   "cell_type": "markdown",
   "metadata": {},
   "source": [
    "<h3>Train Logistic Regression Model</h3>"
   ]
  },
  {
   "cell_type": "code",
   "execution_count": 46,
   "metadata": {},
   "outputs": [],
   "source": [
    "# Logistic regression classifier and predictions\n",
    "scale_orig = StandardScaler()\n",
    "X_train = scale_orig.fit_transform(dataset_orig_train.features)\n",
    "y_train = dataset_orig_train.labels.ravel()\n",
    "w_train = dataset_orig_train.instance_weights.ravel()\n",
    "\n",
    "lmod = LogisticRegression()\n",
    "lmod.fit(X_train, y_train, \n",
    "         sample_weight=dataset_orig_train.instance_weights)\n",
    "y_train_pred = lmod.predict(X_train)\n",
    "\n",
    "# positive class index\n",
    "pos_ind = np.where(lmod.classes_ == dataset_orig_train.favorable_label)[0][0]\n",
    "\n",
    "dataset_orig_train_pred = dataset_orig_train.copy()\n",
    "dataset_orig_train_pred.labels = y_train_pred"
   ]
  },
  {
   "cell_type": "markdown",
   "metadata": {},
   "source": [
    "#### Obtain scores for original validation and test sets"
   ]
  },
  {
   "cell_type": "code",
   "execution_count": 47,
   "metadata": {},
   "outputs": [
    {
     "name": "stdout",
     "output_type": "stream",
     "text": [
      "[[0.40978573]\n",
      " [0.15317496]\n",
      " [0.70083489]\n",
      " [0.73924136]\n",
      " [0.53193139]\n",
      " [0.37813881]\n",
      " [0.53193139]\n",
      " [0.88694563]\n",
      " [0.33703946]\n",
      " [0.32678371]]\n"
     ]
    }
   ],
   "source": [
    "dataset_orig_valid_pred = dataset_orig_valid.copy(deepcopy=True)\n",
    "X_valid = scale_orig.transform(dataset_orig_valid_pred.features)\n",
    "y_valid = dataset_orig_valid_pred.labels\n",
    "dataset_orig_valid_pred.scores = lmod.predict_proba(X_valid)[:,pos_ind].reshape(-1,1)\n",
    "print(dataset_orig_valid_pred.scores[:10])\n",
    "\n",
    "dataset_orig_test_pred = dataset_orig_test.copy(deepcopy=True)\n",
    "X_test = scale_orig.transform(dataset_orig_test_pred.features)\n",
    "y_test = dataset_orig_test_pred.labels\n",
    "dataset_orig_test_pred.scores = lmod.predict_proba(X_test)[:,pos_ind].reshape(-1,1)"
   ]
  },
  {
   "cell_type": "markdown",
   "metadata": {},
   "source": [
    "### Find the optimal classification threshold from the validation set"
   ]
  },
  {
   "cell_type": "code",
   "execution_count": 48,
   "metadata": {},
   "outputs": [
    {
     "name": "stdout",
     "output_type": "stream",
     "text": [
      "Best balanced accuracy (no reweighing) = 0.6518\n",
      "Optimal classification threshold (no reweighing) = 0.4555\n"
     ]
    }
   ],
   "source": [
    "num_thresh = 100\n",
    "ba_arr = np.zeros(num_thresh)\n",
    "class_thresh_arr = np.linspace(0.01, 0.99, num_thresh)\n",
    "for idx, class_thresh in enumerate(class_thresh_arr):\n",
    "    \n",
    "    fav_inds = dataset_orig_valid_pred.scores > class_thresh\n",
    "    dataset_orig_valid_pred.labels[fav_inds] = dataset_orig_valid_pred.favorable_label\n",
    "    dataset_orig_valid_pred.labels[~fav_inds] = dataset_orig_valid_pred.unfavorable_label\n",
    "    \n",
    "    classified_metric_orig_valid = ClassificationMetric(dataset_orig_valid,\n",
    "                                             dataset_orig_valid_pred, \n",
    "                                             unprivileged_groups=unprivileged_groups,\n",
    "                                             privileged_groups=privileged_groups)\n",
    "    \n",
    "    ba_arr[idx] = 0.5*(classified_metric_orig_valid.true_positive_rate()\\\n",
    "                       +classified_metric_orig_valid.true_negative_rate())\n",
    "\n",
    "best_ind = np.where(ba_arr == np.max(ba_arr))[0][0]\n",
    "best_class_thresh = class_thresh_arr[best_ind]\n",
    "\n",
    "print(\"Best balanced accuracy (no reweighing) = %.4f\" % np.max(ba_arr))\n",
    "print(\"Optimal classification threshold (no reweighing) = %.4f\" % best_class_thresh)"
   ]
  },
  {
   "cell_type": "markdown",
   "metadata": {},
   "source": [
    "### Predictions from the original test set at the optimal classification threshold"
   ]
  },
  {
   "cell_type": "code",
   "execution_count": 49,
   "metadata": {},
   "outputs": [
    {
     "data": {
      "text/markdown": [
       "#### Predictions from original testing data"
      ],
      "text/plain": [
       "<IPython.core.display.Markdown object>"
      ]
     },
     "metadata": {},
     "output_type": "display_data"
    },
    {
     "name": "stdout",
     "output_type": "stream",
     "text": [
      "Classification threshold used = 0.4555\n"
     ]
    },
    {
     "name": "stderr",
     "output_type": "stream",
     "text": [
      "\r",
      "  0%|                                                                                          | 0/100 [00:00<?, ?it/s]"
     ]
    },
    {
     "name": "stdout",
     "output_type": "stream",
     "text": [
      "Balanced accuracy = 0.6599\n",
      "Statistical parity difference = -0.1907\n",
      "Disparate impact = 0.7647\n",
      "Average odds difference = -0.1643\n",
      "Equal opportunity difference = -0.0993\n",
      "Theil index = 0.1600\n"
     ]
    },
    {
     "name": "stderr",
     "output_type": "stream",
     "text": [
      " 46%|████████████████████████████████████▊                                           | 46/100 [00:00<00:00, 386.53it/s]C:\\Users\\bengo\\Anaconda3\\lib\\site-packages\\aif360\\metrics\\dataset_metric.py:82: RuntimeWarning: invalid value encountered in double_scalars\n",
      "  return metric_fun(privileged=False) / metric_fun(privileged=True)\n",
      "100%|███████████████████████████████████████████████████████████████████████████████| 100/100 [00:00<00:00, 404.86it/s]\n"
     ]
    }
   ],
   "source": [
    "display(Markdown(\"#### Predictions from original testing data\"))\n",
    "bal_acc_arr_orig = []\n",
    "disp_imp_arr_orig = []\n",
    "avg_odds_diff_arr_orig = []\n",
    "\n",
    "print(\"Classification threshold used = %.4f\" % best_class_thresh)\n",
    "for thresh in tqdm(class_thresh_arr):\n",
    "    \n",
    "    if thresh == best_class_thresh:\n",
    "        disp = True\n",
    "    else:\n",
    "        disp = False\n",
    "    \n",
    "    fav_inds = dataset_orig_test_pred.scores > thresh\n",
    "    dataset_orig_test_pred.labels[fav_inds] = dataset_orig_test_pred.favorable_label\n",
    "    dataset_orig_test_pred.labels[~fav_inds] = dataset_orig_test_pred.unfavorable_label\n",
    "    \n",
    "    metric_test_bef = compute_metrics(dataset_orig_test, dataset_orig_test_pred, \n",
    "                                      unprivileged_groups, privileged_groups,\n",
    "                                      disp = disp)\n",
    "\n",
    "    bal_acc_arr_orig.append(metric_test_bef[\"Balanced accuracy\"])\n",
    "    avg_odds_diff_arr_orig.append(metric_test_bef[\"Average odds difference\"])\n",
    "    disp_imp_arr_orig.append(metric_test_bef[\"Disparate impact\"])"
   ]
  },
  {
   "cell_type": "markdown",
   "metadata": {},
   "source": [
    "<h4>Disparate Impact (DI)</h4> This metric is a ratio of the rate of favorable outcomes for the unprivileged group to the rate of favorable outcomes for the privileged group. A value of 1 indicates perfect fairness. Values less than 1 indicate less favorable outcomes for the unprivileged group, and values greater than 1 indicate less favorable outcomes for the privileged group.\n",
    "<h4>Statistical Parity Difference (SPD)</h4> This is the difference in the rate of favorable outcomes received by the unprivileged group to the privileged group. A value of 0 indicates perfect fairness. Negative values indicate bias against the unprivileged group, and positive values indicate bias in favor of the unprivileged group."
   ]
  },
  {
   "cell_type": "markdown",
   "metadata": {},
   "source": [
    "As such, we can see that the DI is less than 1, indicating less favorable outcomes for the unprivileged group. In this case, that means less favorable outcomes for non-caucasians, when we run the model on sex beforehand."
   ]
  },
  {
   "cell_type": "markdown",
   "metadata": {},
   "source": [
    "We can also look at the SPD. It is negative, which indicates bias against the unprivileged group. This means that the non-caucasian population is experiencing bias when we run the model based on sex beforehand."
   ]
  },
  {
   "cell_type": "markdown",
   "metadata": {},
   "source": [
    "<h3>Part 3: Repeat Measurements Considering Age Groups</h3>"
   ]
  },
  {
   "cell_type": "markdown",
   "metadata": {},
   "source": [
    "<h3>Part 3.1: When Race is the Protected Attribute and then we test with Sex as the Protected Attribute. Additionally, the age is set as less than 25</h3>"
   ]
  },
  {
   "cell_type": "code",
   "execution_count": 69,
   "metadata": {},
   "outputs": [],
   "source": [
    "# Load and preprocess the COMPAS dataset\n",
    "dataset = load_preproc_data_compas(['race'])"
   ]
  },
  {
   "cell_type": "code",
   "execution_count": 70,
   "metadata": {},
   "outputs": [],
   "source": [
    "privileged_groups = [{'race': 1}]\n",
    "unprivileged_groups = [{'race': 0}]"
   ]
  },
  {
   "cell_type": "code",
   "execution_count": 71,
   "metadata": {},
   "outputs": [],
   "source": [
    "import pandas as pd\n",
    "\n",
    "dataset_df = pd.DataFrame(dataset.features, columns=dataset.feature_names)\n",
    "\n",
    "#age is less than 25 specifically\n",
    "age_cat = np.argmax(dataset_df[['age_cat=Less than 25']].values, axis=1).reshape(-1, 1)\n",
    "priors_count = np.argmax(dataset_df[['priors_count=0', 'priors_count=1 to 3',\n",
    "                                          'priors_count=More than 3']].values, axis=1).reshape(-1, 1)\n",
    "c_charge_degree = np.argmax(dataset_df[['c_charge_degree=M', 'c_charge_degree=F']].values, axis=1).reshape(-1, 1)\n",
    "\n",
    "features = np.concatenate((dataset_df[['sex', 'race']].values, age_cat, priors_count,\n",
    "                           c_charge_degree, dataset.labels), axis=1)\n",
    "feature_names = ['sex', 'race', 'age_cat', 'priors_count', 'c_charge_degree']"
   ]
  },
  {
   "cell_type": "code",
   "execution_count": 72,
   "metadata": {},
   "outputs": [
    {
     "data": {
      "text/html": [
       "<div>\n",
       "<style scoped>\n",
       "    .dataframe tbody tr th:only-of-type {\n",
       "        vertical-align: middle;\n",
       "    }\n",
       "\n",
       "    .dataframe tbody tr th {\n",
       "        vertical-align: top;\n",
       "    }\n",
       "\n",
       "    .dataframe thead th {\n",
       "        text-align: right;\n",
       "    }\n",
       "</style>\n",
       "<table border=\"1\" class=\"dataframe\">\n",
       "  <thead>\n",
       "    <tr style=\"text-align: right;\">\n",
       "      <th></th>\n",
       "      <th>sex</th>\n",
       "      <th>race</th>\n",
       "      <th>age_cat</th>\n",
       "      <th>priors_count</th>\n",
       "      <th>c_charge_degree</th>\n",
       "      <th>two_year_recid</th>\n",
       "    </tr>\n",
       "  </thead>\n",
       "  <tbody>\n",
       "    <tr>\n",
       "      <th>0</th>\n",
       "      <td>0.0</td>\n",
       "      <td>0.0</td>\n",
       "      <td>0.0</td>\n",
       "      <td>0.0</td>\n",
       "      <td>1.0</td>\n",
       "      <td>1.0</td>\n",
       "    </tr>\n",
       "    <tr>\n",
       "      <th>1</th>\n",
       "      <td>0.0</td>\n",
       "      <td>0.0</td>\n",
       "      <td>0.0</td>\n",
       "      <td>2.0</td>\n",
       "      <td>1.0</td>\n",
       "      <td>1.0</td>\n",
       "    </tr>\n",
       "    <tr>\n",
       "      <th>2</th>\n",
       "      <td>0.0</td>\n",
       "      <td>1.0</td>\n",
       "      <td>0.0</td>\n",
       "      <td>2.0</td>\n",
       "      <td>1.0</td>\n",
       "      <td>1.0</td>\n",
       "    </tr>\n",
       "    <tr>\n",
       "      <th>3</th>\n",
       "      <td>1.0</td>\n",
       "      <td>1.0</td>\n",
       "      <td>0.0</td>\n",
       "      <td>0.0</td>\n",
       "      <td>0.0</td>\n",
       "      <td>0.0</td>\n",
       "    </tr>\n",
       "    <tr>\n",
       "      <th>4</th>\n",
       "      <td>0.0</td>\n",
       "      <td>1.0</td>\n",
       "      <td>0.0</td>\n",
       "      <td>0.0</td>\n",
       "      <td>1.0</td>\n",
       "      <td>0.0</td>\n",
       "    </tr>\n",
       "  </tbody>\n",
       "</table>\n",
       "</div>"
      ],
      "text/plain": [
       "   sex  race  age_cat  priors_count  c_charge_degree  two_year_recid\n",
       "0  0.0   0.0      0.0           0.0              1.0             1.0\n",
       "1  0.0   0.0      0.0           2.0              1.0             1.0\n",
       "2  0.0   1.0      0.0           2.0              1.0             1.0\n",
       "3  1.0   1.0      0.0           0.0              0.0             0.0\n",
       "4  0.0   1.0      0.0           0.0              1.0             0.0"
      ]
     },
     "execution_count": 72,
     "metadata": {},
     "output_type": "execute_result"
    }
   ],
   "source": [
    "df = pd.DataFrame(features, columns=feature_names + ['two_year_recid'])\n",
    "df.head()"
   ]
  },
  {
   "cell_type": "code",
   "execution_count": 74,
   "metadata": {},
   "outputs": [],
   "source": [
    "from aif360.datasets import StandardDataset\n",
    "dataset = StandardDataset(df, label_name='two_year_recid', favorable_classes=[0],\n",
    "                 protected_attribute_names=['race'],\n",
    "                 privileged_classes=[[1]],\n",
    "                 instance_weights_name=None)"
   ]
  },
  {
   "cell_type": "code",
   "execution_count": 75,
   "metadata": {},
   "outputs": [
    {
     "name": "stdout",
     "output_type": "stream",
     "text": [
      "['race']\n"
     ]
    }
   ],
   "source": [
    "print(dataset.protected_attribute_names)"
   ]
  },
  {
   "cell_type": "markdown",
   "metadata": {},
   "source": [
    "## Training/Test data"
   ]
  },
  {
   "cell_type": "code",
   "execution_count": 76,
   "metadata": {},
   "outputs": [],
   "source": [
    "# Get the dataset and split into train and test\n",
    "dataset_orig_train, dataset_orig_vt = dataset.split([0.7], shuffle=True)\n",
    "dataset_orig_valid, dataset_orig_test = dataset_orig_vt.split([0.5], shuffle=True)"
   ]
  },
  {
   "cell_type": "markdown",
   "metadata": {},
   "source": [
    "#### Metric for original training data"
   ]
  },
  {
   "cell_type": "code",
   "execution_count": 77,
   "metadata": {},
   "outputs": [
    {
     "data": {
      "text/markdown": [
       "#### Original training dataset"
      ],
      "text/plain": [
       "<IPython.core.display.Markdown object>"
      ]
     },
     "metadata": {},
     "output_type": "display_data"
    },
    {
     "name": "stdout",
     "output_type": "stream",
     "text": [
      "Difference in mean outcomes between unprivileged and privileged groups = -0.125412\n"
     ]
    }
   ],
   "source": [
    "# Metric for the original dataset\n",
    "metric_orig_train = BinaryLabelDatasetMetric(dataset_orig_train, \n",
    "                                             unprivileged_groups=unprivileged_groups,\n",
    "                                             privileged_groups=privileged_groups)\n",
    "display(Markdown(\"#### Original training dataset\"))\n",
    "print(\"Difference in mean outcomes between unprivileged and privileged groups = %f\" % metric_orig_train.mean_difference())"
   ]
  },
  {
   "cell_type": "markdown",
   "metadata": {},
   "source": [
    "#### Train with and transform the original training data"
   ]
  },
  {
   "cell_type": "code",
   "execution_count": 78,
   "metadata": {},
   "outputs": [],
   "source": [
    "RW = Reweighing(unprivileged_groups=unprivileged_groups,\n",
    "               privileged_groups=privileged_groups)\n",
    "RW.fit(dataset_orig_train)\n",
    "dataset_transf_train = RW.transform(dataset_orig_train)"
   ]
  },
  {
   "cell_type": "code",
   "execution_count": 79,
   "metadata": {},
   "outputs": [],
   "source": [
    "### Testing \n",
    "assert np.abs(dataset_transf_train.instance_weights.sum()-dataset_orig_train.instance_weights.sum())<1e-6"
   ]
  },
  {
   "cell_type": "markdown",
   "metadata": {},
   "source": [
    "#### Metric with the transformed training data"
   ]
  },
  {
   "cell_type": "code",
   "execution_count": 80,
   "metadata": {},
   "outputs": [
    {
     "data": {
      "text/markdown": [
       "#### Transformed training dataset"
      ],
      "text/plain": [
       "<IPython.core.display.Markdown object>"
      ]
     },
     "metadata": {},
     "output_type": "display_data"
    },
    {
     "name": "stdout",
     "output_type": "stream",
     "text": [
      "Difference in mean outcomes between unprivileged and privileged groups = 0.000000\n"
     ]
    }
   ],
   "source": [
    "metric_transf_train = BinaryLabelDatasetMetric(dataset_transf_train, \n",
    "                                         unprivileged_groups=unprivileged_groups,\n",
    "                                         privileged_groups=privileged_groups)\n",
    "display(Markdown(\"#### Transformed training dataset\"))\n",
    "print(\"Difference in mean outcomes between unprivileged and privileged groups = %f\" % metric_transf_train.mean_difference())"
   ]
  },
  {
   "cell_type": "markdown",
   "metadata": {},
   "source": [
    "### Change race to be the protected attribute"
   ]
  },
  {
   "cell_type": "code",
   "execution_count": 81,
   "metadata": {},
   "outputs": [],
   "source": [
    "dataset_orig_train.protected_attribute_names=(['sex'])\n",
    "dataset_orig_valid.protected_attribute_names=(['sex'])\n",
    "dataset_orig_test.protected_attribute_names=(['sex'])"
   ]
  },
  {
   "cell_type": "code",
   "execution_count": 82,
   "metadata": {},
   "outputs": [
    {
     "name": "stdout",
     "output_type": "stream",
     "text": [
      "['sex']\n"
     ]
    }
   ],
   "source": [
    "print(dataset_orig_train.protected_attribute_names)"
   ]
  },
  {
   "cell_type": "code",
   "execution_count": 83,
   "metadata": {},
   "outputs": [],
   "source": [
    "privileged_groups = [{'sex': 1}]\n",
    "unprivileged_groups = [{'sex': 0}]"
   ]
  },
  {
   "cell_type": "markdown",
   "metadata": {},
   "source": [
    "<h3>Train Logistic Regression Model</h3>"
   ]
  },
  {
   "cell_type": "code",
   "execution_count": 84,
   "metadata": {},
   "outputs": [],
   "source": [
    "# Logistic regression classifier and predictions\n",
    "scale_orig = StandardScaler()\n",
    "X_train = scale_orig.fit_transform(dataset_orig_train.features)\n",
    "y_train = dataset_orig_train.labels.ravel()\n",
    "w_train = dataset_orig_train.instance_weights.ravel()\n",
    "\n",
    "lmod = LogisticRegression()\n",
    "lmod.fit(X_train, y_train, \n",
    "         sample_weight=dataset_orig_train.instance_weights)\n",
    "y_train_pred = lmod.predict(X_train)\n",
    "\n",
    "# positive class index\n",
    "pos_ind = np.where(lmod.classes_ == dataset_orig_train.favorable_label)[0][0]\n",
    "\n",
    "dataset_orig_train_pred = dataset_orig_train.copy()\n",
    "dataset_orig_train_pred.labels = y_train_pred"
   ]
  },
  {
   "cell_type": "markdown",
   "metadata": {},
   "source": [
    "#### Obtain scores for original validation and test sets"
   ]
  },
  {
   "cell_type": "code",
   "execution_count": 85,
   "metadata": {},
   "outputs": [
    {
     "name": "stdout",
     "output_type": "stream",
     "text": [
      "[[0.56255249]\n",
      " [0.63191948]\n",
      " [0.69141064]\n",
      " [0.30082376]\n",
      " [0.42550598]\n",
      " [0.46220747]\n",
      " [0.53132053]\n",
      " [0.39164768]\n",
      " [0.63191948]\n",
      " [0.30082376]]\n"
     ]
    }
   ],
   "source": [
    "dataset_orig_valid_pred = dataset_orig_valid.copy(deepcopy=True)\n",
    "X_valid = scale_orig.transform(dataset_orig_valid_pred.features)\n",
    "y_valid = dataset_orig_valid_pred.labels\n",
    "dataset_orig_valid_pred.scores = lmod.predict_proba(X_valid)[:,pos_ind].reshape(-1,1)\n",
    "print(dataset_orig_valid_pred.scores[:10])\n",
    "\n",
    "dataset_orig_test_pred = dataset_orig_test.copy(deepcopy=True)\n",
    "X_test = scale_orig.transform(dataset_orig_test_pred.features)\n",
    "y_test = dataset_orig_test_pred.labels\n",
    "dataset_orig_test_pred.scores = lmod.predict_proba(X_test)[:,pos_ind].reshape(-1,1)"
   ]
  },
  {
   "cell_type": "markdown",
   "metadata": {},
   "source": [
    "### Find the optimal classification threshold from the validation set"
   ]
  },
  {
   "cell_type": "code",
   "execution_count": 86,
   "metadata": {},
   "outputs": [
    {
     "name": "stdout",
     "output_type": "stream",
     "text": [
      "Best balanced accuracy (no reweighing) = 0.6544\n",
      "Optimal classification threshold (no reweighing) = 0.4654\n"
     ]
    }
   ],
   "source": [
    "num_thresh = 100\n",
    "ba_arr = np.zeros(num_thresh)\n",
    "class_thresh_arr = np.linspace(0.01, 0.99, num_thresh)\n",
    "for idx, class_thresh in enumerate(class_thresh_arr):\n",
    "    \n",
    "    fav_inds = dataset_orig_valid_pred.scores > class_thresh\n",
    "    dataset_orig_valid_pred.labels[fav_inds] = dataset_orig_valid_pred.favorable_label\n",
    "    dataset_orig_valid_pred.labels[~fav_inds] = dataset_orig_valid_pred.unfavorable_label\n",
    "    \n",
    "    classified_metric_orig_valid = ClassificationMetric(dataset_orig_valid,\n",
    "                                             dataset_orig_valid_pred, \n",
    "                                             unprivileged_groups=unprivileged_groups,\n",
    "                                             privileged_groups=privileged_groups)\n",
    "    \n",
    "    ba_arr[idx] = 0.5*(classified_metric_orig_valid.true_positive_rate()\\\n",
    "                       +classified_metric_orig_valid.true_negative_rate())\n",
    "\n",
    "best_ind = np.where(ba_arr == np.max(ba_arr))[0][0]\n",
    "best_class_thresh = class_thresh_arr[best_ind]\n",
    "\n",
    "print(\"Best balanced accuracy (no reweighing) = %.4f\" % np.max(ba_arr))\n",
    "print(\"Optimal classification threshold (no reweighing) = %.4f\" % best_class_thresh)"
   ]
  },
  {
   "cell_type": "markdown",
   "metadata": {},
   "source": [
    "### Predictions from the original test set at the optimal classification threshold"
   ]
  },
  {
   "cell_type": "code",
   "execution_count": 87,
   "metadata": {},
   "outputs": [
    {
     "data": {
      "text/markdown": [
       "#### Predictions from original testing data"
      ],
      "text/plain": [
       "<IPython.core.display.Markdown object>"
      ]
     },
     "metadata": {},
     "output_type": "display_data"
    },
    {
     "name": "stdout",
     "output_type": "stream",
     "text": [
      "Classification threshold used = 0.4654\n"
     ]
    },
    {
     "name": "stderr",
     "output_type": "stream",
     "text": [
      " 32%|█████████████████████████▌                                                      | 32/100 [00:00<00:00, 312.01it/s]"
     ]
    },
    {
     "name": "stdout",
     "output_type": "stream",
     "text": [
      "Balanced accuracy = 0.6410\n",
      "Statistical parity difference = -0.3653\n",
      "Disparate impact = 0.5419\n",
      "Average odds difference = -0.3338\n",
      "Equal opportunity difference = -0.3175\n",
      "Theil index = 0.2298\n"
     ]
    },
    {
     "name": "stderr",
     "output_type": "stream",
     "text": [
      " 59%|███████████████████████████████████████████████▏                                | 59/100 [00:00<00:00, 297.58it/s]C:\\Users\\bengo\\Anaconda3\\lib\\site-packages\\aif360\\metrics\\dataset_metric.py:82: RuntimeWarning: invalid value encountered in double_scalars\n",
      "  return metric_fun(privileged=False) / metric_fun(privileged=True)\n",
      "100%|███████████████████████████████████████████████████████████████████████████████| 100/100 [00:00<00:00, 320.16it/s]\n"
     ]
    }
   ],
   "source": [
    "display(Markdown(\"#### Predictions from original testing data\"))\n",
    "bal_acc_arr_orig = []\n",
    "disp_imp_arr_orig = []\n",
    "avg_odds_diff_arr_orig = []\n",
    "\n",
    "print(\"Classification threshold used = %.4f\" % best_class_thresh)\n",
    "for thresh in tqdm(class_thresh_arr):\n",
    "    \n",
    "    if thresh == best_class_thresh:\n",
    "        disp = True\n",
    "    else:\n",
    "        disp = False\n",
    "    \n",
    "    fav_inds = dataset_orig_test_pred.scores > thresh\n",
    "    dataset_orig_test_pred.labels[fav_inds] = dataset_orig_test_pred.favorable_label\n",
    "    dataset_orig_test_pred.labels[~fav_inds] = dataset_orig_test_pred.unfavorable_label\n",
    "    \n",
    "    metric_test_bef = compute_metrics(dataset_orig_test, dataset_orig_test_pred, \n",
    "                                      unprivileged_groups, privileged_groups,\n",
    "                                      disp = disp)\n",
    "\n",
    "    bal_acc_arr_orig.append(metric_test_bef[\"Balanced accuracy\"])\n",
    "    avg_odds_diff_arr_orig.append(metric_test_bef[\"Average odds difference\"])\n",
    "    disp_imp_arr_orig.append(metric_test_bef[\"Disparate impact\"])"
   ]
  },
  {
   "cell_type": "markdown",
   "metadata": {},
   "source": [
    "<h4>Disparate Impact (DI)</h4> This metric is a ratio of the rate of favorable outcomes for the unprivileged group to the rate of favorable outcomes for the privileged group. A value of 1 indicates perfect fairness. Values less than 1 indicate less favorable outcomes for the unprivileged group, and values greater than 1 indicate less favorable outcomes for the privileged group.\n",
    "<h4>Statistical Parity Difference (SPD)</h4> This is the difference in the rate of favorable outcomes received by the unprivileged group to the privileged group. A value of 0 indicates perfect fairness. Negative values indicate bias against the unprivileged group, and positive values indicate bias in favor of the unprivileged group."
   ]
  },
  {
   "cell_type": "markdown",
   "metadata": {},
   "source": [
    "As such, we can see that the DI is less than 1, indicating less favorable outcomes for the unprivileged group. In this case, that means less favorable outcomes for males, when we run the model based on race beforehand and based on the age category as less than 25."
   ]
  },
  {
   "cell_type": "markdown",
   "metadata": {},
   "source": [
    "We can also look at the SPD. It is negative, which indicates bias against the unprivileged group. This means that the male population is experiencing bias when we run the model based on race beforehand and based on the age category as less than 25."
   ]
  },
  {
   "cell_type": "markdown",
   "metadata": {},
   "source": [
    "<h3>Part 3.2: When Sex is the Protected Attribute and then we test with Race as the Protected Attribute. Additionally, the age is set as less than 25</h3>"
   ]
  },
  {
   "cell_type": "code",
   "execution_count": 50,
   "metadata": {},
   "outputs": [],
   "source": [
    "# Load and preprocess the COMPAS dataset\n",
    "dataset = load_preproc_data_compas(['sex'])"
   ]
  },
  {
   "cell_type": "code",
   "execution_count": 51,
   "metadata": {},
   "outputs": [],
   "source": [
    "privileged_groups = [{'sex': 1}]\n",
    "unprivileged_groups = [{'sex': 0}]"
   ]
  },
  {
   "cell_type": "code",
   "execution_count": 53,
   "metadata": {},
   "outputs": [],
   "source": [
    "import pandas as pd\n",
    "\n",
    "dataset_df = pd.DataFrame(dataset.features, columns=dataset.feature_names)\n",
    "\n",
    "#age is less than 25 specifically\n",
    "age_cat = np.argmax(dataset_df[['age_cat=Less than 25']].values, axis=1).reshape(-1, 1)\n",
    "priors_count = np.argmax(dataset_df[['priors_count=0', 'priors_count=1 to 3',\n",
    "                                          'priors_count=More than 3']].values, axis=1).reshape(-1, 1)\n",
    "c_charge_degree = np.argmax(dataset_df[['c_charge_degree=M', 'c_charge_degree=F']].values, axis=1).reshape(-1, 1)\n",
    "\n",
    "features = np.concatenate((dataset_df[['sex', 'race']].values, age_cat, priors_count,\n",
    "                           c_charge_degree, dataset.labels), axis=1)\n",
    "feature_names = ['sex', 'race', 'age_cat', 'priors_count', 'c_charge_degree']"
   ]
  },
  {
   "cell_type": "code",
   "execution_count": 54,
   "metadata": {},
   "outputs": [
    {
     "data": {
      "text/html": [
       "<div>\n",
       "<style scoped>\n",
       "    .dataframe tbody tr th:only-of-type {\n",
       "        vertical-align: middle;\n",
       "    }\n",
       "\n",
       "    .dataframe tbody tr th {\n",
       "        vertical-align: top;\n",
       "    }\n",
       "\n",
       "    .dataframe thead th {\n",
       "        text-align: right;\n",
       "    }\n",
       "</style>\n",
       "<table border=\"1\" class=\"dataframe\">\n",
       "  <thead>\n",
       "    <tr style=\"text-align: right;\">\n",
       "      <th></th>\n",
       "      <th>sex</th>\n",
       "      <th>race</th>\n",
       "      <th>age_cat</th>\n",
       "      <th>priors_count</th>\n",
       "      <th>c_charge_degree</th>\n",
       "      <th>two_year_recid</th>\n",
       "    </tr>\n",
       "  </thead>\n",
       "  <tbody>\n",
       "    <tr>\n",
       "      <th>0</th>\n",
       "      <td>0.0</td>\n",
       "      <td>0.0</td>\n",
       "      <td>0.0</td>\n",
       "      <td>0.0</td>\n",
       "      <td>1.0</td>\n",
       "      <td>1.0</td>\n",
       "    </tr>\n",
       "    <tr>\n",
       "      <th>1</th>\n",
       "      <td>0.0</td>\n",
       "      <td>0.0</td>\n",
       "      <td>0.0</td>\n",
       "      <td>2.0</td>\n",
       "      <td>1.0</td>\n",
       "      <td>1.0</td>\n",
       "    </tr>\n",
       "    <tr>\n",
       "      <th>2</th>\n",
       "      <td>0.0</td>\n",
       "      <td>1.0</td>\n",
       "      <td>0.0</td>\n",
       "      <td>2.0</td>\n",
       "      <td>1.0</td>\n",
       "      <td>1.0</td>\n",
       "    </tr>\n",
       "    <tr>\n",
       "      <th>3</th>\n",
       "      <td>1.0</td>\n",
       "      <td>1.0</td>\n",
       "      <td>0.0</td>\n",
       "      <td>0.0</td>\n",
       "      <td>0.0</td>\n",
       "      <td>0.0</td>\n",
       "    </tr>\n",
       "    <tr>\n",
       "      <th>4</th>\n",
       "      <td>0.0</td>\n",
       "      <td>1.0</td>\n",
       "      <td>0.0</td>\n",
       "      <td>0.0</td>\n",
       "      <td>1.0</td>\n",
       "      <td>0.0</td>\n",
       "    </tr>\n",
       "  </tbody>\n",
       "</table>\n",
       "</div>"
      ],
      "text/plain": [
       "   sex  race  age_cat  priors_count  c_charge_degree  two_year_recid\n",
       "0  0.0   0.0      0.0           0.0              1.0             1.0\n",
       "1  0.0   0.0      0.0           2.0              1.0             1.0\n",
       "2  0.0   1.0      0.0           2.0              1.0             1.0\n",
       "3  1.0   1.0      0.0           0.0              0.0             0.0\n",
       "4  0.0   1.0      0.0           0.0              1.0             0.0"
      ]
     },
     "execution_count": 54,
     "metadata": {},
     "output_type": "execute_result"
    }
   ],
   "source": [
    "df = pd.DataFrame(features, columns=feature_names + ['two_year_recid'])\n",
    "df.head()"
   ]
  },
  {
   "cell_type": "code",
   "execution_count": 55,
   "metadata": {},
   "outputs": [],
   "source": [
    "from aif360.datasets import StandardDataset\n",
    "dataset = StandardDataset(df, label_name='two_year_recid', favorable_classes=[0],\n",
    "                 protected_attribute_names=['sex'],\n",
    "                 privileged_classes=[[1]],\n",
    "                 instance_weights_name=None)"
   ]
  },
  {
   "cell_type": "code",
   "execution_count": 56,
   "metadata": {},
   "outputs": [
    {
     "name": "stdout",
     "output_type": "stream",
     "text": [
      "['sex']\n"
     ]
    }
   ],
   "source": [
    "print(dataset.protected_attribute_names)"
   ]
  },
  {
   "cell_type": "markdown",
   "metadata": {},
   "source": [
    "## Training/Test data"
   ]
  },
  {
   "cell_type": "code",
   "execution_count": 57,
   "metadata": {},
   "outputs": [],
   "source": [
    "# Get the dataset and split into train and test\n",
    "dataset_orig_train, dataset_orig_vt = dataset.split([0.7], shuffle=True)\n",
    "dataset_orig_valid, dataset_orig_test = dataset_orig_vt.split([0.5], shuffle=True)"
   ]
  },
  {
   "cell_type": "markdown",
   "metadata": {},
   "source": [
    "#### Metric for original training data"
   ]
  },
  {
   "cell_type": "code",
   "execution_count": 58,
   "metadata": {},
   "outputs": [
    {
     "data": {
      "text/markdown": [
       "#### Original training dataset"
      ],
      "text/plain": [
       "<IPython.core.display.Markdown object>"
      ]
     },
     "metadata": {},
     "output_type": "display_data"
    },
    {
     "name": "stdout",
     "output_type": "stream",
     "text": [
      "Difference in mean outcomes between unprivileged and privileged groups = -0.139823\n"
     ]
    }
   ],
   "source": [
    "# Metric for the original dataset\n",
    "metric_orig_train = BinaryLabelDatasetMetric(dataset_orig_train, \n",
    "                                             unprivileged_groups=unprivileged_groups,\n",
    "                                             privileged_groups=privileged_groups)\n",
    "display(Markdown(\"#### Original training dataset\"))\n",
    "print(\"Difference in mean outcomes between unprivileged and privileged groups = %f\" % metric_orig_train.mean_difference())"
   ]
  },
  {
   "cell_type": "markdown",
   "metadata": {},
   "source": [
    "#### Train with and transform the original training data"
   ]
  },
  {
   "cell_type": "code",
   "execution_count": 59,
   "metadata": {},
   "outputs": [],
   "source": [
    "RW = Reweighing(unprivileged_groups=unprivileged_groups,\n",
    "               privileged_groups=privileged_groups)\n",
    "RW.fit(dataset_orig_train)\n",
    "dataset_transf_train = RW.transform(dataset_orig_train)"
   ]
  },
  {
   "cell_type": "code",
   "execution_count": 60,
   "metadata": {},
   "outputs": [],
   "source": [
    "### Testing \n",
    "assert np.abs(dataset_transf_train.instance_weights.sum()-dataset_orig_train.instance_weights.sum())<1e-6"
   ]
  },
  {
   "cell_type": "markdown",
   "metadata": {},
   "source": [
    "#### Metric with the transformed training data"
   ]
  },
  {
   "cell_type": "code",
   "execution_count": 61,
   "metadata": {},
   "outputs": [
    {
     "data": {
      "text/markdown": [
       "#### Transformed training dataset"
      ],
      "text/plain": [
       "<IPython.core.display.Markdown object>"
      ]
     },
     "metadata": {},
     "output_type": "display_data"
    },
    {
     "name": "stdout",
     "output_type": "stream",
     "text": [
      "Difference in mean outcomes between unprivileged and privileged groups = 0.000000\n"
     ]
    }
   ],
   "source": [
    "metric_transf_train = BinaryLabelDatasetMetric(dataset_transf_train, \n",
    "                                         unprivileged_groups=unprivileged_groups,\n",
    "                                         privileged_groups=privileged_groups)\n",
    "display(Markdown(\"#### Transformed training dataset\"))\n",
    "print(\"Difference in mean outcomes between unprivileged and privileged groups = %f\" % metric_transf_train.mean_difference())"
   ]
  },
  {
   "cell_type": "markdown",
   "metadata": {},
   "source": [
    "### Change race to be the protected attribute"
   ]
  },
  {
   "cell_type": "code",
   "execution_count": 62,
   "metadata": {},
   "outputs": [],
   "source": [
    "dataset_orig_train.protected_attribute_names=(['race'])\n",
    "dataset_orig_valid.protected_attribute_names=(['race'])\n",
    "dataset_orig_test.protected_attribute_names=(['race'])"
   ]
  },
  {
   "cell_type": "code",
   "execution_count": 63,
   "metadata": {},
   "outputs": [
    {
     "name": "stdout",
     "output_type": "stream",
     "text": [
      "['race']\n"
     ]
    }
   ],
   "source": [
    "print(dataset_orig_train.protected_attribute_names)"
   ]
  },
  {
   "cell_type": "code",
   "execution_count": 64,
   "metadata": {},
   "outputs": [],
   "source": [
    "privileged_groups = [{'race': 1}]\n",
    "unprivileged_groups = [{'race': 0}]"
   ]
  },
  {
   "cell_type": "markdown",
   "metadata": {},
   "source": [
    "<h3>Train Logistic Regression Model</h3>"
   ]
  },
  {
   "cell_type": "code",
   "execution_count": 65,
   "metadata": {},
   "outputs": [],
   "source": [
    "# Logistic regression classifier and predictions\n",
    "scale_orig = StandardScaler()\n",
    "X_train = scale_orig.fit_transform(dataset_orig_train.features)\n",
    "y_train = dataset_orig_train.labels.ravel()\n",
    "w_train = dataset_orig_train.instance_weights.ravel()\n",
    "\n",
    "lmod = LogisticRegression()\n",
    "lmod.fit(X_train, y_train, \n",
    "         sample_weight=dataset_orig_train.instance_weights)\n",
    "y_train_pred = lmod.predict(X_train)\n",
    "\n",
    "# positive class index\n",
    "pos_ind = np.where(lmod.classes_ == dataset_orig_train.favorable_label)[0][0]\n",
    "\n",
    "dataset_orig_train_pred = dataset_orig_train.copy()\n",
    "dataset_orig_train_pred.labels = y_train_pred"
   ]
  },
  {
   "cell_type": "markdown",
   "metadata": {},
   "source": [
    "#### Obtain scores for original validation and test sets"
   ]
  },
  {
   "cell_type": "code",
   "execution_count": 66,
   "metadata": {},
   "outputs": [
    {
     "name": "stdout",
     "output_type": "stream",
     "text": [
      "[[0.46280223]\n",
      " [0.81342823]\n",
      " [0.53349143]\n",
      " [0.46208394]\n",
      " [0.53349143]\n",
      " [0.7690763 ]\n",
      " [0.62811269]\n",
      " [0.46208394]\n",
      " [0.68919468]\n",
      " [0.39288792]]\n"
     ]
    }
   ],
   "source": [
    "dataset_orig_valid_pred = dataset_orig_valid.copy(deepcopy=True)\n",
    "X_valid = scale_orig.transform(dataset_orig_valid_pred.features)\n",
    "y_valid = dataset_orig_valid_pred.labels\n",
    "dataset_orig_valid_pred.scores = lmod.predict_proba(X_valid)[:,pos_ind].reshape(-1,1)\n",
    "print(dataset_orig_valid_pred.scores[:10])\n",
    "\n",
    "dataset_orig_test_pred = dataset_orig_test.copy(deepcopy=True)\n",
    "X_test = scale_orig.transform(dataset_orig_test_pred.features)\n",
    "y_test = dataset_orig_test_pred.labels\n",
    "dataset_orig_test_pred.scores = lmod.predict_proba(X_test)[:,pos_ind].reshape(-1,1)"
   ]
  },
  {
   "cell_type": "markdown",
   "metadata": {},
   "source": [
    "### Find the optimal classification threshold from the validation set"
   ]
  },
  {
   "cell_type": "code",
   "execution_count": 67,
   "metadata": {},
   "outputs": [
    {
     "name": "stdout",
     "output_type": "stream",
     "text": [
      "Best balanced accuracy (no reweighing) = 0.6460\n",
      "Optimal classification threshold (no reweighing) = 0.4654\n"
     ]
    }
   ],
   "source": [
    "num_thresh = 100\n",
    "ba_arr = np.zeros(num_thresh)\n",
    "class_thresh_arr = np.linspace(0.01, 0.99, num_thresh)\n",
    "for idx, class_thresh in enumerate(class_thresh_arr):\n",
    "    \n",
    "    fav_inds = dataset_orig_valid_pred.scores > class_thresh\n",
    "    dataset_orig_valid_pred.labels[fav_inds] = dataset_orig_valid_pred.favorable_label\n",
    "    dataset_orig_valid_pred.labels[~fav_inds] = dataset_orig_valid_pred.unfavorable_label\n",
    "    \n",
    "    classified_metric_orig_valid = ClassificationMetric(dataset_orig_valid,\n",
    "                                             dataset_orig_valid_pred, \n",
    "                                             unprivileged_groups=unprivileged_groups,\n",
    "                                             privileged_groups=privileged_groups)\n",
    "    \n",
    "    ba_arr[idx] = 0.5*(classified_metric_orig_valid.true_positive_rate()\\\n",
    "                       +classified_metric_orig_valid.true_negative_rate())\n",
    "\n",
    "best_ind = np.where(ba_arr == np.max(ba_arr))[0][0]\n",
    "best_class_thresh = class_thresh_arr[best_ind]\n",
    "\n",
    "print(\"Best balanced accuracy (no reweighing) = %.4f\" % np.max(ba_arr))\n",
    "print(\"Optimal classification threshold (no reweighing) = %.4f\" % best_class_thresh)"
   ]
  },
  {
   "cell_type": "markdown",
   "metadata": {},
   "source": [
    "### Predictions from the original test set at the optimal classification threshold"
   ]
  },
  {
   "cell_type": "code",
   "execution_count": 68,
   "metadata": {},
   "outputs": [
    {
     "data": {
      "text/markdown": [
       "#### Predictions from original testing data"
      ],
      "text/plain": [
       "<IPython.core.display.Markdown object>"
      ]
     },
     "metadata": {},
     "output_type": "display_data"
    },
    {
     "name": "stdout",
     "output_type": "stream",
     "text": [
      "Classification threshold used = 0.4654\n"
     ]
    },
    {
     "name": "stderr",
     "output_type": "stream",
     "text": [
      " 27%|█████████████████████▌                                                          | 27/100 [00:00<00:00, 250.21it/s]"
     ]
    },
    {
     "name": "stdout",
     "output_type": "stream",
     "text": [
      "Balanced accuracy = 0.6417\n",
      "Statistical parity difference = -0.3123\n",
      "Disparate impact = 0.6219\n",
      "Average odds difference = -0.2809\n",
      "Equal opportunity difference = -0.2705\n",
      "Theil index = 0.2190\n"
     ]
    },
    {
     "name": "stderr",
     "output_type": "stream",
     "text": [
      " 57%|█████████████████████████████████████████████▌                                  | 57/100 [00:00<00:00, 261.42it/s]C:\\Users\\bengo\\Anaconda3\\lib\\site-packages\\aif360\\metrics\\dataset_metric.py:82: RuntimeWarning: invalid value encountered in double_scalars\n",
      "  return metric_fun(privileged=False) / metric_fun(privileged=True)\n",
      "100%|███████████████████████████████████████████████████████████████████████████████| 100/100 [00:00<00:00, 325.26it/s]\n"
     ]
    }
   ],
   "source": [
    "display(Markdown(\"#### Predictions from original testing data\"))\n",
    "bal_acc_arr_orig = []\n",
    "disp_imp_arr_orig = []\n",
    "avg_odds_diff_arr_orig = []\n",
    "\n",
    "print(\"Classification threshold used = %.4f\" % best_class_thresh)\n",
    "for thresh in tqdm(class_thresh_arr):\n",
    "    \n",
    "    if thresh == best_class_thresh:\n",
    "        disp = True\n",
    "    else:\n",
    "        disp = False\n",
    "    \n",
    "    fav_inds = dataset_orig_test_pred.scores > thresh\n",
    "    dataset_orig_test_pred.labels[fav_inds] = dataset_orig_test_pred.favorable_label\n",
    "    dataset_orig_test_pred.labels[~fav_inds] = dataset_orig_test_pred.unfavorable_label\n",
    "    \n",
    "    metric_test_bef = compute_metrics(dataset_orig_test, dataset_orig_test_pred, \n",
    "                                      unprivileged_groups, privileged_groups,\n",
    "                                      disp = disp)\n",
    "\n",
    "    bal_acc_arr_orig.append(metric_test_bef[\"Balanced accuracy\"])\n",
    "    avg_odds_diff_arr_orig.append(metric_test_bef[\"Average odds difference\"])\n",
    "    disp_imp_arr_orig.append(metric_test_bef[\"Disparate impact\"])"
   ]
  },
  {
   "cell_type": "markdown",
   "metadata": {},
   "source": [
    "<h4>Disparate Impact (DI)</h4> This metric is a ratio of the rate of favorable outcomes for the unprivileged group to the rate of favorable outcomes for the privileged group. A value of 1 indicates perfect fairness. Values less than 1 indicate less favorable outcomes for the unprivileged group, and values greater than 1 indicate less favorable outcomes for the privileged group.\n",
    "<h4>Statistical Parity Difference (SPD)</h4> This is the difference in the rate of favorable outcomes received by the unprivileged group to the privileged group. A value of 0 indicates perfect fairness. Negative values indicate bias against the unprivileged group, and positive values indicate bias in favor of the unprivileged group."
   ]
  },
  {
   "cell_type": "markdown",
   "metadata": {},
   "source": [
    "As such, we can see that the DI is less than 1, indicating less favorable outcomes for the unprivileged group. In this case, that means less favorable outcomes for non-caucasians, when we run the model based on sex beforehand and based on the age category as less than 25."
   ]
  },
  {
   "cell_type": "markdown",
   "metadata": {},
   "source": [
    "We can also look at the SPD. It is negative, which indicates bias against the unprivileged group. This means that the non-caucasian population is experiencing bias when we run the model based on sex beforehand and based on the age category as less than 25."
   ]
  },
  {
   "cell_type": "code",
   "execution_count": null,
   "metadata": {},
   "outputs": [],
   "source": []
  }
 ],
 "metadata": {
  "kernelspec": {
   "display_name": "Python 3",
   "language": "python",
   "name": "python3"
  },
  "language_info": {
   "codemirror_mode": {
    "name": "ipython",
    "version": 3
   },
   "file_extension": ".py",
   "mimetype": "text/x-python",
   "name": "python",
   "nbconvert_exporter": "python",
   "pygments_lexer": "ipython3",
   "version": "3.7.3"
  }
 },
 "nbformat": 4,
 "nbformat_minor": 5
}
